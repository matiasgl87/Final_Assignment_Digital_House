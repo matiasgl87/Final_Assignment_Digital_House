{
 "cells": [
  {
   "attachments": {
    "logo_DH.png": {
     "image/png": "[encoded data removed]"
    }
   },
   "cell_type": "markdown",
   "metadata": {},
   "source": [
    "![logo_DH.png](attachment:logo_DH.png)"
   ]
  },
  {
   "cell_type": "markdown",
   "metadata": {},
   "source": [
    "##  Final Challenge,  Data Science Course, 2020 - 2021"
   ]
  },
  {
   "cell_type": "markdown",
   "metadata": {},
   "source": [
    "### 1- Data preparation"
   ]
  },
  {
   "cell_type": "markdown",
   "metadata": {
    "scrolled": false
   },
   "source": [
    "#### Data was downloaded from https://portal.gdc.cancer.gov/ (\"Genomic Data Commons Data Portal\" - National Cancer Institute)  updated on 03-31-2021 as .tar.gz files that had the information of 1881 miRNA expression"
   ]
  },
  {
   "cell_type": "code",
   "execution_count": 1,
   "metadata": {},
   "outputs": [],
   "source": [
    "import numpy as np\n",
    "import pandas as pd"
   ]
  },
  {
   "cell_type": "code",
   "execution_count": 2,
   "metadata": {
    "scrolled": true
   },
   "outputs": [],
   "source": [
    "# files absolut paths were determined in order to import them\n",
    "from pathlib import Path\n",
    "import glob\n",
    "loc = 'C:/Users/matia/OneDrive/Escritorio/Data Science/Digital House/Desafios/Trabajo_Final_Digital_House_main/miRNA'\n",
    "#list of txt files paths \n",
    "txt_list = [ archivo.with_suffix(\".txt\").as_posix()  \\\n",
    "            for archivo in Path(loc).glob(\"*/*\") ]\n",
    "\n"
   ]
  },
  {
   "cell_type": "code",
   "execution_count": 3,
   "metadata": {},
   "outputs": [],
   "source": [
    "#All files are read and listed\n",
    "\n",
    "list_data=[]\n",
    "for filename in txt_list:\n",
    "    data= pd.read_csv(filename, sep ='\\t')\n",
    "    list_data.append(data)    "
   ]
  },
  {
   "cell_type": "code",
   "execution_count": 4,
   "metadata": {},
   "outputs": [
    {
     "data": {
      "text/html": [
       "<div>\n",
       "<style scoped>\n",
       "    .dataframe tbody tr th:only-of-type {\n",
       "        vertical-align: middle;\n",
       "    }\n",
       "\n",
       "    .dataframe tbody tr th {\n",
       "        vertical-align: top;\n",
       "    }\n",
       "\n",
       "    .dataframe thead th {\n",
       "        text-align: right;\n",
       "    }\n",
       "</style>\n",
       "<table border=\"1\" class=\"dataframe\">\n",
       "  <thead>\n",
       "    <tr style=\"text-align: right;\">\n",
       "      <th></th>\n",
       "      <th>miRNA_ID</th>\n",
       "      <th>read_count</th>\n",
       "      <th>reads_per_million_miRNA_mapped</th>\n",
       "      <th>cross-mapped</th>\n",
       "    </tr>\n",
       "  </thead>\n",
       "  <tbody>\n",
       "    <tr>\n",
       "      <th>0</th>\n",
       "      <td>hsa-let-7a-1</td>\n",
       "      <td>181971</td>\n",
       "      <td>30201.367344</td>\n",
       "      <td>N</td>\n",
       "    </tr>\n",
       "    <tr>\n",
       "      <th>1</th>\n",
       "      <td>hsa-let-7a-2</td>\n",
       "      <td>173004</td>\n",
       "      <td>28713.132071</td>\n",
       "      <td>Y</td>\n",
       "    </tr>\n",
       "    <tr>\n",
       "      <th>2</th>\n",
       "      <td>hsa-let-7a-3</td>\n",
       "      <td>174471</td>\n",
       "      <td>28956.607162</td>\n",
       "      <td>N</td>\n",
       "    </tr>\n",
       "    <tr>\n",
       "      <th>3</th>\n",
       "      <td>hsa-let-7b</td>\n",
       "      <td>75376</td>\n",
       "      <td>12510.005797</td>\n",
       "      <td>N</td>\n",
       "    </tr>\n",
       "  </tbody>\n",
       "</table>\n",
       "</div>"
      ],
      "text/plain": [
       "       miRNA_ID  read_count  reads_per_million_miRNA_mapped cross-mapped\n",
       "0  hsa-let-7a-1      181971                    30201.367344            N\n",
       "1  hsa-let-7a-2      173004                    28713.132071            Y\n",
       "2  hsa-let-7a-3      174471                    28956.607162            N\n",
       "3    hsa-let-7b       75376                    12510.005797            N"
      ]
     },
     "execution_count": 4,
     "metadata": {},
     "output_type": "execute_result"
    }
   ],
   "source": [
    "list_data[1].head(4)"
   ]
  },
  {
   "cell_type": "code",
   "execution_count": 5,
   "metadata": {},
   "outputs": [],
   "source": [
    "# expression column of each file is extracted \n",
    "\n",
    "list_data_miRNA = []\n",
    "for data in list_data:\n",
    "    data_miRNA = data.iloc[:,2]\n",
    "    list_data_miRNA.append(data_miRNA)"
   ]
  },
  {
   "cell_type": "code",
   "execution_count": 6,
   "metadata": {},
   "outputs": [],
   "source": [
    "# all columns were concatenated in one dataframe\n",
    "\n",
    "data_miRNA_1 = pd.concat(list_data_miRNA, axis =1)"
   ]
  },
  {
   "cell_type": "code",
   "execution_count": 7,
   "metadata": {},
   "outputs": [],
   "source": [
    "# Data frame index was assigned\n",
    "\n",
    "data_miRNA_1.index= data.miRNA_ID"
   ]
  },
  {
   "cell_type": "code",
   "execution_count": 8,
   "metadata": {},
   "outputs": [
    {
     "data": {
      "text/plain": [
       "(1881, 1358)"
      ]
     },
     "execution_count": 8,
     "metadata": {},
     "output_type": "execute_result"
    }
   ],
   "source": [
    "#Dataframe shape\n",
    "data_miRNA_1.shape"
   ]
  },
  {
   "cell_type": "code",
   "execution_count": 9,
   "metadata": {},
   "outputs": [
    {
     "data": {
      "text/html": [
       "<div>\n",
       "<style scoped>\n",
       "    .dataframe tbody tr th:only-of-type {\n",
       "        vertical-align: middle;\n",
       "    }\n",
       "\n",
       "    .dataframe tbody tr th {\n",
       "        vertical-align: top;\n",
       "    }\n",
       "\n",
       "    .dataframe thead th {\n",
       "        text-align: right;\n",
       "    }\n",
       "</style>\n",
       "<table border=\"1\" class=\"dataframe\">\n",
       "  <thead>\n",
       "    <tr style=\"text-align: right;\">\n",
       "      <th></th>\n",
       "      <th>reads_per_million_miRNA_mapped</th>\n",
       "      <th>reads_per_million_miRNA_mapped</th>\n",
       "      <th>reads_per_million_miRNA_mapped</th>\n",
       "      <th>reads_per_million_miRNA_mapped</th>\n",
       "      <th>reads_per_million_miRNA_mapped</th>\n",
       "      <th>reads_per_million_miRNA_mapped</th>\n",
       "      <th>reads_per_million_miRNA_mapped</th>\n",
       "      <th>reads_per_million_miRNA_mapped</th>\n",
       "      <th>reads_per_million_miRNA_mapped</th>\n",
       "      <th>reads_per_million_miRNA_mapped</th>\n",
       "      <th>...</th>\n",
       "      <th>reads_per_million_miRNA_mapped</th>\n",
       "      <th>reads_per_million_miRNA_mapped</th>\n",
       "      <th>reads_per_million_miRNA_mapped</th>\n",
       "      <th>entity_type</th>\n",
       "      <th>reads_per_million_miRNA_mapped</th>\n",
       "      <th>reads_per_million_miRNA_mapped</th>\n",
       "      <th>reads_per_million_miRNA_mapped</th>\n",
       "      <th>reads_per_million_miRNA_mapped</th>\n",
       "      <th>reads_per_million_miRNA_mapped</th>\n",
       "      <th>reads_per_million_miRNA_mapped</th>\n",
       "    </tr>\n",
       "    <tr>\n",
       "      <th>miRNA_ID</th>\n",
       "      <th></th>\n",
       "      <th></th>\n",
       "      <th></th>\n",
       "      <th></th>\n",
       "      <th></th>\n",
       "      <th></th>\n",
       "      <th></th>\n",
       "      <th></th>\n",
       "      <th></th>\n",
       "      <th></th>\n",
       "      <th></th>\n",
       "      <th></th>\n",
       "      <th></th>\n",
       "      <th></th>\n",
       "      <th></th>\n",
       "      <th></th>\n",
       "      <th></th>\n",
       "      <th></th>\n",
       "      <th></th>\n",
       "      <th></th>\n",
       "      <th></th>\n",
       "    </tr>\n",
       "  </thead>\n",
       "  <tbody>\n",
       "    <tr>\n",
       "      <th>hsa-mir-105-2</th>\n",
       "      <td>29.877390</td>\n",
       "      <td>0.000000</td>\n",
       "      <td>6.118346</td>\n",
       "      <td>163.535322</td>\n",
       "      <td>0.000000</td>\n",
       "      <td>9.613795</td>\n",
       "      <td>0.000000</td>\n",
       "      <td>0.832566</td>\n",
       "      <td>0.305242</td>\n",
       "      <td>0.000000</td>\n",
       "      <td>...</td>\n",
       "      <td>0.000000</td>\n",
       "      <td>0.456388</td>\n",
       "      <td>0.503599</td>\n",
       "      <td>NaN</td>\n",
       "      <td>0.000000</td>\n",
       "      <td>0.102931</td>\n",
       "      <td>22.058946</td>\n",
       "      <td>0.000000</td>\n",
       "      <td>0.000000</td>\n",
       "      <td>0.000000</td>\n",
       "    </tr>\n",
       "    <tr>\n",
       "      <th>hsa-mir-25</th>\n",
       "      <td>1869.570674</td>\n",
       "      <td>2638.393682</td>\n",
       "      <td>1942.348187</td>\n",
       "      <td>5503.437940</td>\n",
       "      <td>842.818392</td>\n",
       "      <td>3113.008923</td>\n",
       "      <td>1132.781184</td>\n",
       "      <td>1471.977397</td>\n",
       "      <td>1341.027726</td>\n",
       "      <td>1561.022659</td>\n",
       "      <td>...</td>\n",
       "      <td>2733.275301</td>\n",
       "      <td>1656.002788</td>\n",
       "      <td>3455.839272</td>\n",
       "      <td>NaN</td>\n",
       "      <td>3317.416979</td>\n",
       "      <td>4397.129817</td>\n",
       "      <td>2145.934366</td>\n",
       "      <td>1266.637314</td>\n",
       "      <td>1408.247741</td>\n",
       "      <td>1673.465568</td>\n",
       "    </tr>\n",
       "    <tr>\n",
       "      <th>hsa-mir-335</th>\n",
       "      <td>1180.296504</td>\n",
       "      <td>538.898175</td>\n",
       "      <td>1970.220651</td>\n",
       "      <td>891.002180</td>\n",
       "      <td>340.813478</td>\n",
       "      <td>3020.282317</td>\n",
       "      <td>1005.704696</td>\n",
       "      <td>332.527021</td>\n",
       "      <td>504.055490</td>\n",
       "      <td>666.539479</td>\n",
       "      <td>...</td>\n",
       "      <td>709.489435</td>\n",
       "      <td>572.652473</td>\n",
       "      <td>526.692466</td>\n",
       "      <td>NaN</td>\n",
       "      <td>2015.274920</td>\n",
       "      <td>694.890409</td>\n",
       "      <td>1546.332109</td>\n",
       "      <td>325.307806</td>\n",
       "      <td>704.081287</td>\n",
       "      <td>533.465504</td>\n",
       "    </tr>\n",
       "    <tr>\n",
       "      <th>hsa-mir-628</th>\n",
       "      <td>79.300735</td>\n",
       "      <td>52.113960</td>\n",
       "      <td>37.616496</td>\n",
       "      <td>73.486374</td>\n",
       "      <td>44.294551</td>\n",
       "      <td>79.546403</td>\n",
       "      <td>31.451618</td>\n",
       "      <td>44.958586</td>\n",
       "      <td>43.446042</td>\n",
       "      <td>54.931948</td>\n",
       "      <td>...</td>\n",
       "      <td>53.180919</td>\n",
       "      <td>37.537889</td>\n",
       "      <td>26.906568</td>\n",
       "      <td>NaN</td>\n",
       "      <td>56.665152</td>\n",
       "      <td>81.315868</td>\n",
       "      <td>35.093778</td>\n",
       "      <td>40.585327</td>\n",
       "      <td>46.671894</td>\n",
       "      <td>36.718735</td>\n",
       "    </tr>\n",
       "  </tbody>\n",
       "</table>\n",
       "<p>4 rows × 1358 columns</p>\n",
       "</div>"
      ],
      "text/plain": [
       "               reads_per_million_miRNA_mapped  reads_per_million_miRNA_mapped  \\\n",
       "miRNA_ID                                                                        \n",
       "hsa-mir-105-2                       29.877390                        0.000000   \n",
       "hsa-mir-25                        1869.570674                     2638.393682   \n",
       "hsa-mir-335                       1180.296504                      538.898175   \n",
       "hsa-mir-628                         79.300735                       52.113960   \n",
       "\n",
       "               reads_per_million_miRNA_mapped  reads_per_million_miRNA_mapped  \\\n",
       "miRNA_ID                                                                        \n",
       "hsa-mir-105-2                        6.118346                      163.535322   \n",
       "hsa-mir-25                        1942.348187                     5503.437940   \n",
       "hsa-mir-335                       1970.220651                      891.002180   \n",
       "hsa-mir-628                         37.616496                       73.486374   \n",
       "\n",
       "               reads_per_million_miRNA_mapped  reads_per_million_miRNA_mapped  \\\n",
       "miRNA_ID                                                                        \n",
       "hsa-mir-105-2                        0.000000                        9.613795   \n",
       "hsa-mir-25                         842.818392                     3113.008923   \n",
       "hsa-mir-335                        340.813478                     3020.282317   \n",
       "hsa-mir-628                         44.294551                       79.546403   \n",
       "\n",
       "               reads_per_million_miRNA_mapped  reads_per_million_miRNA_mapped  \\\n",
       "miRNA_ID                                                                        \n",
       "hsa-mir-105-2                        0.000000                        0.832566   \n",
       "hsa-mir-25                        1132.781184                     1471.977397   \n",
       "hsa-mir-335                       1005.704696                      332.527021   \n",
       "hsa-mir-628                         31.451618                       44.958586   \n",
       "\n",
       "               reads_per_million_miRNA_mapped  reads_per_million_miRNA_mapped  \\\n",
       "miRNA_ID                                                                        \n",
       "hsa-mir-105-2                        0.305242                        0.000000   \n",
       "hsa-mir-25                        1341.027726                     1561.022659   \n",
       "hsa-mir-335                        504.055490                      666.539479   \n",
       "hsa-mir-628                         43.446042                       54.931948   \n",
       "\n",
       "               ...  reads_per_million_miRNA_mapped  \\\n",
       "miRNA_ID       ...                                   \n",
       "hsa-mir-105-2  ...                        0.000000   \n",
       "hsa-mir-25     ...                     2733.275301   \n",
       "hsa-mir-335    ...                      709.489435   \n",
       "hsa-mir-628    ...                       53.180919   \n",
       "\n",
       "               reads_per_million_miRNA_mapped  reads_per_million_miRNA_mapped  \\\n",
       "miRNA_ID                                                                        \n",
       "hsa-mir-105-2                        0.456388                        0.503599   \n",
       "hsa-mir-25                        1656.002788                     3455.839272   \n",
       "hsa-mir-335                        572.652473                      526.692466   \n",
       "hsa-mir-628                         37.537889                       26.906568   \n",
       "\n",
       "               entity_type  reads_per_million_miRNA_mapped  \\\n",
       "miRNA_ID                                                     \n",
       "hsa-mir-105-2          NaN                        0.000000   \n",
       "hsa-mir-25             NaN                     3317.416979   \n",
       "hsa-mir-335            NaN                     2015.274920   \n",
       "hsa-mir-628            NaN                       56.665152   \n",
       "\n",
       "               reads_per_million_miRNA_mapped  reads_per_million_miRNA_mapped  \\\n",
       "miRNA_ID                                                                        \n",
       "hsa-mir-105-2                        0.102931                       22.058946   \n",
       "hsa-mir-25                        4397.129817                     2145.934366   \n",
       "hsa-mir-335                        694.890409                     1546.332109   \n",
       "hsa-mir-628                         81.315868                       35.093778   \n",
       "\n",
       "               reads_per_million_miRNA_mapped  reads_per_million_miRNA_mapped  \\\n",
       "miRNA_ID                                                                        \n",
       "hsa-mir-105-2                        0.000000                        0.000000   \n",
       "hsa-mir-25                        1266.637314                     1408.247741   \n",
       "hsa-mir-335                        325.307806                      704.081287   \n",
       "hsa-mir-628                         40.585327                       46.671894   \n",
       "\n",
       "               reads_per_million_miRNA_mapped  \n",
       "miRNA_ID                                       \n",
       "hsa-mir-105-2                        0.000000  \n",
       "hsa-mir-25                        1673.465568  \n",
       "hsa-mir-335                        533.465504  \n",
       "hsa-mir-628                         36.718735  \n",
       "\n",
       "[4 rows x 1358 columns]"
      ]
     },
     "execution_count": 9,
     "metadata": {},
     "output_type": "execute_result"
    }
   ],
   "source": [
    "data_miRNA_1.sample(4)"
   ]
  },
  {
   "cell_type": "code",
   "execution_count": 10,
   "metadata": {},
   "outputs": [
    {
     "data": {
      "text/plain": [
       "(1358, 1881)"
      ]
     },
     "execution_count": 10,
     "metadata": {},
     "output_type": "execute_result"
    }
   ],
   "source": [
    "# The dataframe was transposed to have all data from the same sample in each row and each miRNA expression in columns  \n",
    "\n",
    "#Data was converted to float\n",
    "\n",
    "data_miRNA_2 = data_miRNA_1.T\n",
    "data_miRNA_2 = data_miRNA_2.apply(pd.to_numeric, downcast='float', errors='coerce')\n",
    "data_miRNA_2=data_miRNA_2.astype(float)\n",
    "data_miRNA_2.shape"
   ]
  },
  {
   "cell_type": "code",
   "execution_count": 11,
   "metadata": {},
   "outputs": [],
   "source": [
    "# Zeros were replaced with np.NaN to apply log(base =2)\n",
    "data_miRNA_2 = data_miRNA_2.replace(0, np.NaN)\n"
   ]
  },
  {
   "cell_type": "code",
   "execution_count": 12,
   "metadata": {},
   "outputs": [],
   "source": [
    "# Each value was replaced by its log\n",
    "data_miRNA_2_b = np.log2(data_miRNA_2)"
   ]
  },
  {
   "cell_type": "code",
   "execution_count": 13,
   "metadata": {},
   "outputs": [
    {
     "data": {
      "text/html": [
       "<div>\n",
       "<style scoped>\n",
       "    .dataframe tbody tr th:only-of-type {\n",
       "        vertical-align: middle;\n",
       "    }\n",
       "\n",
       "    .dataframe tbody tr th {\n",
       "        vertical-align: top;\n",
       "    }\n",
       "\n",
       "    .dataframe thead th {\n",
       "        text-align: right;\n",
       "    }\n",
       "</style>\n",
       "<table border=\"1\" class=\"dataframe\">\n",
       "  <thead>\n",
       "    <tr style=\"text-align: right;\">\n",
       "      <th>miRNA_ID</th>\n",
       "      <th>hsa-let-7a-1</th>\n",
       "      <th>hsa-let-7a-2</th>\n",
       "      <th>hsa-let-7a-3</th>\n",
       "      <th>hsa-let-7b</th>\n",
       "      <th>hsa-let-7c</th>\n",
       "      <th>hsa-let-7d</th>\n",
       "      <th>hsa-let-7e</th>\n",
       "      <th>hsa-let-7f-1</th>\n",
       "      <th>hsa-let-7f-2</th>\n",
       "      <th>hsa-let-7g</th>\n",
       "      <th>...</th>\n",
       "      <th>hsa-mir-941-5</th>\n",
       "      <th>hsa-mir-942</th>\n",
       "      <th>hsa-mir-943</th>\n",
       "      <th>hsa-mir-944</th>\n",
       "      <th>hsa-mir-95</th>\n",
       "      <th>hsa-mir-9500</th>\n",
       "      <th>hsa-mir-96</th>\n",
       "      <th>hsa-mir-98</th>\n",
       "      <th>hsa-mir-99a</th>\n",
       "      <th>hsa-mir-99b</th>\n",
       "    </tr>\n",
       "  </thead>\n",
       "  <tbody>\n",
       "    <tr>\n",
       "      <th>reads_per_million_miRNA_mapped</th>\n",
       "      <td>15.236065</td>\n",
       "      <td>15.186093</td>\n",
       "      <td>15.188128</td>\n",
       "      <td>13.714389</td>\n",
       "      <td>14.074671</td>\n",
       "      <td>11.884881</td>\n",
       "      <td>11.226529</td>\n",
       "      <td>14.497747</td>\n",
       "      <td>14.592864</td>\n",
       "      <td>14.248748</td>\n",
       "      <td>...</td>\n",
       "      <td>NaN</td>\n",
       "      <td>4.257547</td>\n",
       "      <td>-2.840484</td>\n",
       "      <td>-0.518556</td>\n",
       "      <td>8.752906</td>\n",
       "      <td>NaN</td>\n",
       "      <td>1.966870</td>\n",
       "      <td>11.581120</td>\n",
       "      <td>14.111949</td>\n",
       "      <td>11.893907</td>\n",
       "    </tr>\n",
       "    <tr>\n",
       "      <th>reads_per_million_miRNA_mapped</th>\n",
       "      <td>14.882326</td>\n",
       "      <td>14.809423</td>\n",
       "      <td>14.821605</td>\n",
       "      <td>13.610795</td>\n",
       "      <td>11.643271</td>\n",
       "      <td>12.393752</td>\n",
       "      <td>11.098648</td>\n",
       "      <td>14.555188</td>\n",
       "      <td>14.658526</td>\n",
       "      <td>14.477021</td>\n",
       "      <td>...</td>\n",
       "      <td>NaN</td>\n",
       "      <td>3.694379</td>\n",
       "      <td>-2.591023</td>\n",
       "      <td>-1.591023</td>\n",
       "      <td>8.228358</td>\n",
       "      <td>NaN</td>\n",
       "      <td>5.583903</td>\n",
       "      <td>10.392683</td>\n",
       "      <td>11.855156</td>\n",
       "      <td>12.444936</td>\n",
       "    </tr>\n",
       "    <tr>\n",
       "      <th>reads_per_million_miRNA_mapped</th>\n",
       "      <td>14.382911</td>\n",
       "      <td>14.351445</td>\n",
       "      <td>14.357197</td>\n",
       "      <td>13.171616</td>\n",
       "      <td>13.566840</td>\n",
       "      <td>10.736305</td>\n",
       "      <td>10.926948</td>\n",
       "      <td>13.755154</td>\n",
       "      <td>13.840824</td>\n",
       "      <td>13.970266</td>\n",
       "      <td>...</td>\n",
       "      <td>NaN</td>\n",
       "      <td>2.691144</td>\n",
       "      <td>-3.141742</td>\n",
       "      <td>-1.556784</td>\n",
       "      <td>7.780839</td>\n",
       "      <td>NaN</td>\n",
       "      <td>7.699032</td>\n",
       "      <td>11.088575</td>\n",
       "      <td>13.857902</td>\n",
       "      <td>12.008081</td>\n",
       "    </tr>\n",
       "    <tr>\n",
       "      <th>reads_per_million_miRNA_mapped</th>\n",
       "      <td>13.768529</td>\n",
       "      <td>13.698553</td>\n",
       "      <td>13.715105</td>\n",
       "      <td>11.769493</td>\n",
       "      <td>10.766500</td>\n",
       "      <td>12.179938</td>\n",
       "      <td>10.345813</td>\n",
       "      <td>14.455957</td>\n",
       "      <td>14.589400</td>\n",
       "      <td>15.326121</td>\n",
       "      <td>...</td>\n",
       "      <td>NaN</td>\n",
       "      <td>4.902513</td>\n",
       "      <td>NaN</td>\n",
       "      <td>0.685283</td>\n",
       "      <td>5.346348</td>\n",
       "      <td>NaN</td>\n",
       "      <td>8.267236</td>\n",
       "      <td>12.781438</td>\n",
       "      <td>10.912778</td>\n",
       "      <td>11.535000</td>\n",
       "    </tr>\n",
       "    <tr>\n",
       "      <th>reads_per_million_miRNA_mapped</th>\n",
       "      <td>14.756170</td>\n",
       "      <td>14.715036</td>\n",
       "      <td>14.715615</td>\n",
       "      <td>13.243572</td>\n",
       "      <td>11.120588</td>\n",
       "      <td>11.935819</td>\n",
       "      <td>10.090452</td>\n",
       "      <td>14.470656</td>\n",
       "      <td>14.542343</td>\n",
       "      <td>14.934333</td>\n",
       "      <td>...</td>\n",
       "      <td>NaN</td>\n",
       "      <td>4.485545</td>\n",
       "      <td>NaN</td>\n",
       "      <td>0.611076</td>\n",
       "      <td>8.779999</td>\n",
       "      <td>NaN</td>\n",
       "      <td>6.245282</td>\n",
       "      <td>10.274397</td>\n",
       "      <td>11.881488</td>\n",
       "      <td>11.635385</td>\n",
       "    </tr>\n",
       "  </tbody>\n",
       "</table>\n",
       "<p>5 rows × 1881 columns</p>\n",
       "</div>"
      ],
      "text/plain": [
       "miRNA_ID                        hsa-let-7a-1  hsa-let-7a-2  hsa-let-7a-3  \\\n",
       "reads_per_million_miRNA_mapped     15.236065     15.186093     15.188128   \n",
       "reads_per_million_miRNA_mapped     14.882326     14.809423     14.821605   \n",
       "reads_per_million_miRNA_mapped     14.382911     14.351445     14.357197   \n",
       "reads_per_million_miRNA_mapped     13.768529     13.698553     13.715105   \n",
       "reads_per_million_miRNA_mapped     14.756170     14.715036     14.715615   \n",
       "\n",
       "miRNA_ID                        hsa-let-7b  hsa-let-7c  hsa-let-7d  \\\n",
       "reads_per_million_miRNA_mapped   13.714389   14.074671   11.884881   \n",
       "reads_per_million_miRNA_mapped   13.610795   11.643271   12.393752   \n",
       "reads_per_million_miRNA_mapped   13.171616   13.566840   10.736305   \n",
       "reads_per_million_miRNA_mapped   11.769493   10.766500   12.179938   \n",
       "reads_per_million_miRNA_mapped   13.243572   11.120588   11.935819   \n",
       "\n",
       "miRNA_ID                        hsa-let-7e  hsa-let-7f-1  hsa-let-7f-2  \\\n",
       "reads_per_million_miRNA_mapped   11.226529     14.497747     14.592864   \n",
       "reads_per_million_miRNA_mapped   11.098648     14.555188     14.658526   \n",
       "reads_per_million_miRNA_mapped   10.926948     13.755154     13.840824   \n",
       "reads_per_million_miRNA_mapped   10.345813     14.455957     14.589400   \n",
       "reads_per_million_miRNA_mapped   10.090452     14.470656     14.542343   \n",
       "\n",
       "miRNA_ID                        hsa-let-7g  ...  hsa-mir-941-5  hsa-mir-942  \\\n",
       "reads_per_million_miRNA_mapped   14.248748  ...            NaN     4.257547   \n",
       "reads_per_million_miRNA_mapped   14.477021  ...            NaN     3.694379   \n",
       "reads_per_million_miRNA_mapped   13.970266  ...            NaN     2.691144   \n",
       "reads_per_million_miRNA_mapped   15.326121  ...            NaN     4.902513   \n",
       "reads_per_million_miRNA_mapped   14.934333  ...            NaN     4.485545   \n",
       "\n",
       "miRNA_ID                        hsa-mir-943  hsa-mir-944  hsa-mir-95  \\\n",
       "reads_per_million_miRNA_mapped    -2.840484    -0.518556    8.752906   \n",
       "reads_per_million_miRNA_mapped    -2.591023    -1.591023    8.228358   \n",
       "reads_per_million_miRNA_mapped    -3.141742    -1.556784    7.780839   \n",
       "reads_per_million_miRNA_mapped          NaN     0.685283    5.346348   \n",
       "reads_per_million_miRNA_mapped          NaN     0.611076    8.779999   \n",
       "\n",
       "miRNA_ID                        hsa-mir-9500  hsa-mir-96  hsa-mir-98  \\\n",
       "reads_per_million_miRNA_mapped           NaN    1.966870   11.581120   \n",
       "reads_per_million_miRNA_mapped           NaN    5.583903   10.392683   \n",
       "reads_per_million_miRNA_mapped           NaN    7.699032   11.088575   \n",
       "reads_per_million_miRNA_mapped           NaN    8.267236   12.781438   \n",
       "reads_per_million_miRNA_mapped           NaN    6.245282   10.274397   \n",
       "\n",
       "miRNA_ID                        hsa-mir-99a  hsa-mir-99b  \n",
       "reads_per_million_miRNA_mapped    14.111949    11.893907  \n",
       "reads_per_million_miRNA_mapped    11.855156    12.444936  \n",
       "reads_per_million_miRNA_mapped    13.857902    12.008081  \n",
       "reads_per_million_miRNA_mapped    10.912778    11.535000  \n",
       "reads_per_million_miRNA_mapped    11.881488    11.635385  \n",
       "\n",
       "[5 rows x 1881 columns]"
      ]
     },
     "execution_count": 13,
     "metadata": {},
     "output_type": "execute_result"
    }
   ],
   "source": [
    "data_miRNA_2_b.head()"
   ]
  },
  {
   "cell_type": "code",
   "execution_count": 14,
   "metadata": {},
   "outputs": [
    {
     "data": {
      "text/html": [
       "<div>\n",
       "<style scoped>\n",
       "    .dataframe tbody tr th:only-of-type {\n",
       "        vertical-align: middle;\n",
       "    }\n",
       "\n",
       "    .dataframe tbody tr th {\n",
       "        vertical-align: top;\n",
       "    }\n",
       "\n",
       "    .dataframe thead th {\n",
       "        text-align: right;\n",
       "    }\n",
       "</style>\n",
       "<table border=\"1\" class=\"dataframe\">\n",
       "  <thead>\n",
       "    <tr style=\"text-align: right;\">\n",
       "      <th>miRNA_ID</th>\n",
       "      <th>hsa-let-7a-1</th>\n",
       "      <th>hsa-let-7a-2</th>\n",
       "      <th>hsa-let-7a-3</th>\n",
       "      <th>hsa-let-7b</th>\n",
       "      <th>hsa-let-7c</th>\n",
       "      <th>hsa-let-7d</th>\n",
       "      <th>hsa-let-7e</th>\n",
       "      <th>hsa-let-7f-1</th>\n",
       "      <th>hsa-let-7f-2</th>\n",
       "      <th>hsa-let-7g</th>\n",
       "      <th>...</th>\n",
       "      <th>hsa-mir-941-5</th>\n",
       "      <th>hsa-mir-942</th>\n",
       "      <th>hsa-mir-943</th>\n",
       "      <th>hsa-mir-944</th>\n",
       "      <th>hsa-mir-95</th>\n",
       "      <th>hsa-mir-9500</th>\n",
       "      <th>hsa-mir-96</th>\n",
       "      <th>hsa-mir-98</th>\n",
       "      <th>hsa-mir-99a</th>\n",
       "      <th>hsa-mir-99b</th>\n",
       "    </tr>\n",
       "  </thead>\n",
       "  <tbody>\n",
       "    <tr>\n",
       "      <th>reads_per_million_miRNA_mapped</th>\n",
       "      <td>15.236065</td>\n",
       "      <td>15.186093</td>\n",
       "      <td>15.188128</td>\n",
       "      <td>13.714389</td>\n",
       "      <td>14.074671</td>\n",
       "      <td>11.884881</td>\n",
       "      <td>11.226529</td>\n",
       "      <td>14.497747</td>\n",
       "      <td>14.592864</td>\n",
       "      <td>14.248748</td>\n",
       "      <td>...</td>\n",
       "      <td>0.0</td>\n",
       "      <td>4.257547</td>\n",
       "      <td>-2.840484</td>\n",
       "      <td>-0.518556</td>\n",
       "      <td>8.752906</td>\n",
       "      <td>0.0</td>\n",
       "      <td>1.966870</td>\n",
       "      <td>11.581120</td>\n",
       "      <td>14.111949</td>\n",
       "      <td>11.893907</td>\n",
       "    </tr>\n",
       "    <tr>\n",
       "      <th>reads_per_million_miRNA_mapped</th>\n",
       "      <td>14.882326</td>\n",
       "      <td>14.809423</td>\n",
       "      <td>14.821605</td>\n",
       "      <td>13.610795</td>\n",
       "      <td>11.643271</td>\n",
       "      <td>12.393752</td>\n",
       "      <td>11.098648</td>\n",
       "      <td>14.555188</td>\n",
       "      <td>14.658526</td>\n",
       "      <td>14.477021</td>\n",
       "      <td>...</td>\n",
       "      <td>0.0</td>\n",
       "      <td>3.694379</td>\n",
       "      <td>-2.591023</td>\n",
       "      <td>-1.591023</td>\n",
       "      <td>8.228358</td>\n",
       "      <td>0.0</td>\n",
       "      <td>5.583903</td>\n",
       "      <td>10.392683</td>\n",
       "      <td>11.855156</td>\n",
       "      <td>12.444936</td>\n",
       "    </tr>\n",
       "    <tr>\n",
       "      <th>reads_per_million_miRNA_mapped</th>\n",
       "      <td>14.382911</td>\n",
       "      <td>14.351445</td>\n",
       "      <td>14.357197</td>\n",
       "      <td>13.171616</td>\n",
       "      <td>13.566840</td>\n",
       "      <td>10.736305</td>\n",
       "      <td>10.926948</td>\n",
       "      <td>13.755154</td>\n",
       "      <td>13.840824</td>\n",
       "      <td>13.970266</td>\n",
       "      <td>...</td>\n",
       "      <td>0.0</td>\n",
       "      <td>2.691144</td>\n",
       "      <td>-3.141742</td>\n",
       "      <td>-1.556784</td>\n",
       "      <td>7.780839</td>\n",
       "      <td>0.0</td>\n",
       "      <td>7.699032</td>\n",
       "      <td>11.088575</td>\n",
       "      <td>13.857902</td>\n",
       "      <td>12.008081</td>\n",
       "    </tr>\n",
       "    <tr>\n",
       "      <th>reads_per_million_miRNA_mapped</th>\n",
       "      <td>13.768529</td>\n",
       "      <td>13.698553</td>\n",
       "      <td>13.715105</td>\n",
       "      <td>11.769493</td>\n",
       "      <td>10.766500</td>\n",
       "      <td>12.179938</td>\n",
       "      <td>10.345813</td>\n",
       "      <td>14.455957</td>\n",
       "      <td>14.589400</td>\n",
       "      <td>15.326121</td>\n",
       "      <td>...</td>\n",
       "      <td>0.0</td>\n",
       "      <td>4.902513</td>\n",
       "      <td>0.000000</td>\n",
       "      <td>0.685283</td>\n",
       "      <td>5.346348</td>\n",
       "      <td>0.0</td>\n",
       "      <td>8.267236</td>\n",
       "      <td>12.781438</td>\n",
       "      <td>10.912778</td>\n",
       "      <td>11.535000</td>\n",
       "    </tr>\n",
       "    <tr>\n",
       "      <th>reads_per_million_miRNA_mapped</th>\n",
       "      <td>14.756170</td>\n",
       "      <td>14.715036</td>\n",
       "      <td>14.715615</td>\n",
       "      <td>13.243572</td>\n",
       "      <td>11.120588</td>\n",
       "      <td>11.935819</td>\n",
       "      <td>10.090452</td>\n",
       "      <td>14.470656</td>\n",
       "      <td>14.542343</td>\n",
       "      <td>14.934333</td>\n",
       "      <td>...</td>\n",
       "      <td>0.0</td>\n",
       "      <td>4.485545</td>\n",
       "      <td>0.000000</td>\n",
       "      <td>0.611076</td>\n",
       "      <td>8.779999</td>\n",
       "      <td>0.0</td>\n",
       "      <td>6.245282</td>\n",
       "      <td>10.274397</td>\n",
       "      <td>11.881488</td>\n",
       "      <td>11.635385</td>\n",
       "    </tr>\n",
       "  </tbody>\n",
       "</table>\n",
       "<p>5 rows × 1881 columns</p>\n",
       "</div>"
      ],
      "text/plain": [
       "miRNA_ID                        hsa-let-7a-1  hsa-let-7a-2  hsa-let-7a-3  \\\n",
       "reads_per_million_miRNA_mapped     15.236065     15.186093     15.188128   \n",
       "reads_per_million_miRNA_mapped     14.882326     14.809423     14.821605   \n",
       "reads_per_million_miRNA_mapped     14.382911     14.351445     14.357197   \n",
       "reads_per_million_miRNA_mapped     13.768529     13.698553     13.715105   \n",
       "reads_per_million_miRNA_mapped     14.756170     14.715036     14.715615   \n",
       "\n",
       "miRNA_ID                        hsa-let-7b  hsa-let-7c  hsa-let-7d  \\\n",
       "reads_per_million_miRNA_mapped   13.714389   14.074671   11.884881   \n",
       "reads_per_million_miRNA_mapped   13.610795   11.643271   12.393752   \n",
       "reads_per_million_miRNA_mapped   13.171616   13.566840   10.736305   \n",
       "reads_per_million_miRNA_mapped   11.769493   10.766500   12.179938   \n",
       "reads_per_million_miRNA_mapped   13.243572   11.120588   11.935819   \n",
       "\n",
       "miRNA_ID                        hsa-let-7e  hsa-let-7f-1  hsa-let-7f-2  \\\n",
       "reads_per_million_miRNA_mapped   11.226529     14.497747     14.592864   \n",
       "reads_per_million_miRNA_mapped   11.098648     14.555188     14.658526   \n",
       "reads_per_million_miRNA_mapped   10.926948     13.755154     13.840824   \n",
       "reads_per_million_miRNA_mapped   10.345813     14.455957     14.589400   \n",
       "reads_per_million_miRNA_mapped   10.090452     14.470656     14.542343   \n",
       "\n",
       "miRNA_ID                        hsa-let-7g  ...  hsa-mir-941-5  hsa-mir-942  \\\n",
       "reads_per_million_miRNA_mapped   14.248748  ...            0.0     4.257547   \n",
       "reads_per_million_miRNA_mapped   14.477021  ...            0.0     3.694379   \n",
       "reads_per_million_miRNA_mapped   13.970266  ...            0.0     2.691144   \n",
       "reads_per_million_miRNA_mapped   15.326121  ...            0.0     4.902513   \n",
       "reads_per_million_miRNA_mapped   14.934333  ...            0.0     4.485545   \n",
       "\n",
       "miRNA_ID                        hsa-mir-943  hsa-mir-944  hsa-mir-95  \\\n",
       "reads_per_million_miRNA_mapped    -2.840484    -0.518556    8.752906   \n",
       "reads_per_million_miRNA_mapped    -2.591023    -1.591023    8.228358   \n",
       "reads_per_million_miRNA_mapped    -3.141742    -1.556784    7.780839   \n",
       "reads_per_million_miRNA_mapped     0.000000     0.685283    5.346348   \n",
       "reads_per_million_miRNA_mapped     0.000000     0.611076    8.779999   \n",
       "\n",
       "miRNA_ID                        hsa-mir-9500  hsa-mir-96  hsa-mir-98  \\\n",
       "reads_per_million_miRNA_mapped           0.0    1.966870   11.581120   \n",
       "reads_per_million_miRNA_mapped           0.0    5.583903   10.392683   \n",
       "reads_per_million_miRNA_mapped           0.0    7.699032   11.088575   \n",
       "reads_per_million_miRNA_mapped           0.0    8.267236   12.781438   \n",
       "reads_per_million_miRNA_mapped           0.0    6.245282   10.274397   \n",
       "\n",
       "miRNA_ID                        hsa-mir-99a  hsa-mir-99b  \n",
       "reads_per_million_miRNA_mapped    14.111949    11.893907  \n",
       "reads_per_million_miRNA_mapped    11.855156    12.444936  \n",
       "reads_per_million_miRNA_mapped    13.857902    12.008081  \n",
       "reads_per_million_miRNA_mapped    10.912778    11.535000  \n",
       "reads_per_million_miRNA_mapped    11.881488    11.635385  \n",
       "\n",
       "[5 rows x 1881 columns]"
      ]
     },
     "execution_count": 14,
     "metadata": {},
     "output_type": "execute_result"
    }
   ],
   "source": [
    "#  -inf  were replaced by zeros \n",
    "from numpy import inf\n",
    "data_miRNA_2_b[data_miRNA_2_b == -inf] = 0\n",
    "data_miRNA_2_b = data_miRNA_2_b.apply(lambda x : x.replace(np.NaN,0))\n",
    "data_miRNA_2_b.head()"
   ]
  },
  {
   "cell_type": "code",
   "execution_count": 15,
   "metadata": {},
   "outputs": [],
   "source": [
    "# .txt files paths list to identify the origen of data from data frame data_miRNA_2_b\n",
    "\n",
    "#for archivo in glob.glob(\"C:/Users/matia/OneDrive/Escritorio/Data Science/Digital House/Desafios/Trabajo_Final_Digital_House_main/miRNA/**\", recursive=True):\n",
    "    #return archivo"
   ]
  },
  {
   "cell_type": "code",
   "execution_count": 16,
   "metadata": {},
   "outputs": [],
   "source": [
    "glob_ = list(txt_list)\n"
   ]
  },
  {
   "cell_type": "code",
   "execution_count": 17,
   "metadata": {},
   "outputs": [],
   "source": [
    "#data frame generated with the previous list\n",
    "glob_df = pd.DataFrame(glob_)"
   ]
  },
  {
   "cell_type": "code",
   "execution_count": 18,
   "metadata": {
    "scrolled": true
   },
   "outputs": [
    {
     "data": {
      "text/plain": [
       "['C:',\n",
       " 'Users',\n",
       " 'matia',\n",
       " 'OneDrive',\n",
       " 'Escritorio',\n",
       " 'Data Science',\n",
       " 'Digital House',\n",
       " 'Desafios',\n",
       " 'Trabajo_Final_Digital_House_main',\n",
       " 'miRNA',\n",
       " '0073a8d6-bce8-4ce2-836f-2c9a81a0ebf1',\n",
       " '09370adc-0882-4327-8da9-56e6038e3970.mirnaseq.mirnas.quantification.txt']"
      ]
     },
     "execution_count": 18,
     "metadata": {},
     "output_type": "execute_result"
    }
   ],
   "source": [
    "# string split  \n",
    "glob_df_split = glob_df[0].apply(lambda x: x.split('/'))\n",
    "glob_df_split[0]"
   ]
  },
  {
   "cell_type": "code",
   "execution_count": 19,
   "metadata": {},
   "outputs": [],
   "source": [
    "#list of each last part of the split,  extracted in order to get file name \n",
    "tag_ultima_palabra = [x.split('/')[len(glob_df_split[0])-1] for x in glob_df[0]]"
   ]
  },
  {
   "cell_type": "code",
   "execution_count": 20,
   "metadata": {},
   "outputs": [],
   "source": [
    "# new list assigned as a column of data_miRNA_2_b\n",
    "data_miRNA_2_b['File Name'] = tag_ultima_palabra\n",
    "data_miRNA_2_b = data_miRNA_2_b.reset_index(drop=True)"
   ]
  },
  {
   "cell_type": "code",
   "execution_count": 21,
   "metadata": {},
   "outputs": [
    {
     "data": {
      "text/plain": [
       "(1358, 1882)"
      ]
     },
     "execution_count": 21,
     "metadata": {},
     "output_type": "execute_result"
    }
   ],
   "source": [
    "data_miRNA_2_b.shape"
   ]
  },
  {
   "cell_type": "code",
   "execution_count": 22,
   "metadata": {},
   "outputs": [],
   "source": [
    "# duplicated were eliminated\n",
    "data_miRNA_2_b = data_miRNA_2_b.drop_duplicates(subset = 'File Name', keep= 'first')"
   ]
  },
  {
   "cell_type": "code",
   "execution_count": 23,
   "metadata": {},
   "outputs": [
    {
     "data": {
      "text/plain": [
       "(1258, 1882)"
      ]
     },
     "execution_count": 23,
     "metadata": {},
     "output_type": "execute_result"
    }
   ],
   "source": [
    "# final result was a dataframe composed of 1258 rows (one for each sample) with 1882 columns (each with the expression quantification \n",
    "#of a single miRNA\n",
    "data_miRNA_2_b.shape"
   ]
  },
  {
   "cell_type": "code",
   "execution_count": 24,
   "metadata": {},
   "outputs": [
    {
     "data": {
      "text/html": [
       "<div>\n",
       "<style scoped>\n",
       "    .dataframe tbody tr th:only-of-type {\n",
       "        vertical-align: middle;\n",
       "    }\n",
       "\n",
       "    .dataframe tbody tr th {\n",
       "        vertical-align: top;\n",
       "    }\n",
       "\n",
       "    .dataframe thead th {\n",
       "        text-align: right;\n",
       "    }\n",
       "</style>\n",
       "<table border=\"1\" class=\"dataframe\">\n",
       "  <thead>\n",
       "    <tr style=\"text-align: right;\">\n",
       "      <th>miRNA_ID</th>\n",
       "      <th>hsa-let-7a-1</th>\n",
       "      <th>hsa-let-7a-2</th>\n",
       "      <th>hsa-let-7a-3</th>\n",
       "      <th>hsa-let-7b</th>\n",
       "      <th>hsa-let-7c</th>\n",
       "      <th>hsa-let-7d</th>\n",
       "      <th>hsa-let-7e</th>\n",
       "      <th>hsa-let-7f-1</th>\n",
       "      <th>hsa-let-7f-2</th>\n",
       "      <th>hsa-let-7g</th>\n",
       "      <th>...</th>\n",
       "      <th>hsa-mir-942</th>\n",
       "      <th>hsa-mir-943</th>\n",
       "      <th>hsa-mir-944</th>\n",
       "      <th>hsa-mir-95</th>\n",
       "      <th>hsa-mir-9500</th>\n",
       "      <th>hsa-mir-96</th>\n",
       "      <th>hsa-mir-98</th>\n",
       "      <th>hsa-mir-99a</th>\n",
       "      <th>hsa-mir-99b</th>\n",
       "      <th>File Name</th>\n",
       "    </tr>\n",
       "  </thead>\n",
       "  <tbody>\n",
       "    <tr>\n",
       "      <th>0</th>\n",
       "      <td>15.236065</td>\n",
       "      <td>15.186093</td>\n",
       "      <td>15.188128</td>\n",
       "      <td>13.714389</td>\n",
       "      <td>14.074671</td>\n",
       "      <td>11.884881</td>\n",
       "      <td>11.226529</td>\n",
       "      <td>14.497747</td>\n",
       "      <td>14.592864</td>\n",
       "      <td>14.248748</td>\n",
       "      <td>...</td>\n",
       "      <td>4.257547</td>\n",
       "      <td>-2.840484</td>\n",
       "      <td>-0.518556</td>\n",
       "      <td>8.752906</td>\n",
       "      <td>0.0</td>\n",
       "      <td>1.966870</td>\n",
       "      <td>11.581120</td>\n",
       "      <td>14.111949</td>\n",
       "      <td>11.893907</td>\n",
       "      <td>09370adc-0882-4327-8da9-56e6038e3970.mirnaseq....</td>\n",
       "    </tr>\n",
       "    <tr>\n",
       "      <th>1</th>\n",
       "      <td>14.882326</td>\n",
       "      <td>14.809423</td>\n",
       "      <td>14.821605</td>\n",
       "      <td>13.610795</td>\n",
       "      <td>11.643271</td>\n",
       "      <td>12.393752</td>\n",
       "      <td>11.098648</td>\n",
       "      <td>14.555188</td>\n",
       "      <td>14.658526</td>\n",
       "      <td>14.477021</td>\n",
       "      <td>...</td>\n",
       "      <td>3.694379</td>\n",
       "      <td>-2.591023</td>\n",
       "      <td>-1.591023</td>\n",
       "      <td>8.228358</td>\n",
       "      <td>0.0</td>\n",
       "      <td>5.583903</td>\n",
       "      <td>10.392683</td>\n",
       "      <td>11.855156</td>\n",
       "      <td>12.444936</td>\n",
       "      <td>61195270-972e-47e3-9ddc-026b684f9474.mirnaseq....</td>\n",
       "    </tr>\n",
       "    <tr>\n",
       "      <th>2</th>\n",
       "      <td>14.382911</td>\n",
       "      <td>14.351445</td>\n",
       "      <td>14.357197</td>\n",
       "      <td>13.171616</td>\n",
       "      <td>13.566840</td>\n",
       "      <td>10.736305</td>\n",
       "      <td>10.926948</td>\n",
       "      <td>13.755154</td>\n",
       "      <td>13.840824</td>\n",
       "      <td>13.970266</td>\n",
       "      <td>...</td>\n",
       "      <td>2.691144</td>\n",
       "      <td>-3.141742</td>\n",
       "      <td>-1.556784</td>\n",
       "      <td>7.780839</td>\n",
       "      <td>0.0</td>\n",
       "      <td>7.699032</td>\n",
       "      <td>11.088575</td>\n",
       "      <td>13.857902</td>\n",
       "      <td>12.008081</td>\n",
       "      <td>df7f805c-f577-4811-b3cf-6663bd1171d7.mirnaseq....</td>\n",
       "    </tr>\n",
       "    <tr>\n",
       "      <th>3</th>\n",
       "      <td>13.768529</td>\n",
       "      <td>13.698553</td>\n",
       "      <td>13.715105</td>\n",
       "      <td>11.769493</td>\n",
       "      <td>10.766500</td>\n",
       "      <td>12.179938</td>\n",
       "      <td>10.345813</td>\n",
       "      <td>14.455957</td>\n",
       "      <td>14.589400</td>\n",
       "      <td>15.326121</td>\n",
       "      <td>...</td>\n",
       "      <td>4.902513</td>\n",
       "      <td>0.000000</td>\n",
       "      <td>0.685283</td>\n",
       "      <td>5.346348</td>\n",
       "      <td>0.0</td>\n",
       "      <td>8.267236</td>\n",
       "      <td>12.781438</td>\n",
       "      <td>10.912778</td>\n",
       "      <td>11.535000</td>\n",
       "      <td>4560f036-2c02-49b9-a30a-e1a2a1f23aba.mirnaseq....</td>\n",
       "    </tr>\n",
       "    <tr>\n",
       "      <th>4</th>\n",
       "      <td>14.756170</td>\n",
       "      <td>14.715036</td>\n",
       "      <td>14.715615</td>\n",
       "      <td>13.243572</td>\n",
       "      <td>11.120588</td>\n",
       "      <td>11.935819</td>\n",
       "      <td>10.090452</td>\n",
       "      <td>14.470656</td>\n",
       "      <td>14.542343</td>\n",
       "      <td>14.934333</td>\n",
       "      <td>...</td>\n",
       "      <td>4.485545</td>\n",
       "      <td>0.000000</td>\n",
       "      <td>0.611076</td>\n",
       "      <td>8.779999</td>\n",
       "      <td>0.0</td>\n",
       "      <td>6.245282</td>\n",
       "      <td>10.274397</td>\n",
       "      <td>11.881488</td>\n",
       "      <td>11.635385</td>\n",
       "      <td>8e38bc9e-9730-4ff6-b2a2-ef4c731406e1.mirnaseq....</td>\n",
       "    </tr>\n",
       "  </tbody>\n",
       "</table>\n",
       "<p>5 rows × 1882 columns</p>\n",
       "</div>"
      ],
      "text/plain": [
       "miRNA_ID  hsa-let-7a-1  hsa-let-7a-2  hsa-let-7a-3  hsa-let-7b  hsa-let-7c  \\\n",
       "0            15.236065     15.186093     15.188128   13.714389   14.074671   \n",
       "1            14.882326     14.809423     14.821605   13.610795   11.643271   \n",
       "2            14.382911     14.351445     14.357197   13.171616   13.566840   \n",
       "3            13.768529     13.698553     13.715105   11.769493   10.766500   \n",
       "4            14.756170     14.715036     14.715615   13.243572   11.120588   \n",
       "\n",
       "miRNA_ID  hsa-let-7d  hsa-let-7e  hsa-let-7f-1  hsa-let-7f-2  hsa-let-7g  ...  \\\n",
       "0          11.884881   11.226529     14.497747     14.592864   14.248748  ...   \n",
       "1          12.393752   11.098648     14.555188     14.658526   14.477021  ...   \n",
       "2          10.736305   10.926948     13.755154     13.840824   13.970266  ...   \n",
       "3          12.179938   10.345813     14.455957     14.589400   15.326121  ...   \n",
       "4          11.935819   10.090452     14.470656     14.542343   14.934333  ...   \n",
       "\n",
       "miRNA_ID  hsa-mir-942  hsa-mir-943  hsa-mir-944  hsa-mir-95  hsa-mir-9500  \\\n",
       "0            4.257547    -2.840484    -0.518556    8.752906           0.0   \n",
       "1            3.694379    -2.591023    -1.591023    8.228358           0.0   \n",
       "2            2.691144    -3.141742    -1.556784    7.780839           0.0   \n",
       "3            4.902513     0.000000     0.685283    5.346348           0.0   \n",
       "4            4.485545     0.000000     0.611076    8.779999           0.0   \n",
       "\n",
       "miRNA_ID  hsa-mir-96  hsa-mir-98  hsa-mir-99a  hsa-mir-99b  \\\n",
       "0           1.966870   11.581120    14.111949    11.893907   \n",
       "1           5.583903   10.392683    11.855156    12.444936   \n",
       "2           7.699032   11.088575    13.857902    12.008081   \n",
       "3           8.267236   12.781438    10.912778    11.535000   \n",
       "4           6.245282   10.274397    11.881488    11.635385   \n",
       "\n",
       "miRNA_ID                                          File Name  \n",
       "0         09370adc-0882-4327-8da9-56e6038e3970.mirnaseq....  \n",
       "1         61195270-972e-47e3-9ddc-026b684f9474.mirnaseq....  \n",
       "2         df7f805c-f577-4811-b3cf-6663bd1171d7.mirnaseq....  \n",
       "3         4560f036-2c02-49b9-a30a-e1a2a1f23aba.mirnaseq....  \n",
       "4         8e38bc9e-9730-4ff6-b2a2-ef4c731406e1.mirnaseq....  \n",
       "\n",
       "[5 rows x 1882 columns]"
      ]
     },
     "execution_count": 24,
     "metadata": {},
     "output_type": "execute_result"
    }
   ],
   "source": [
    "data_miRNA_2_b.head()"
   ]
  },
  {
   "cell_type": "code",
   "execution_count": 25,
   "metadata": {},
   "outputs": [
    {
     "data": {
      "text/html": [
       "<div>\n",
       "<style scoped>\n",
       "    .dataframe tbody tr th:only-of-type {\n",
       "        vertical-align: middle;\n",
       "    }\n",
       "\n",
       "    .dataframe tbody tr th {\n",
       "        vertical-align: top;\n",
       "    }\n",
       "\n",
       "    .dataframe thead th {\n",
       "        text-align: right;\n",
       "    }\n",
       "</style>\n",
       "<table border=\"1\" class=\"dataframe\">\n",
       "  <thead>\n",
       "    <tr style=\"text-align: right;\">\n",
       "      <th></th>\n",
       "      <th>File Name</th>\n",
       "      <th>Case ID</th>\n",
       "      <th>Sample Type</th>\n",
       "    </tr>\n",
       "  </thead>\n",
       "  <tbody>\n",
       "    <tr>\n",
       "      <th>0</th>\n",
       "      <td>9b5c9a98-bf21-401b-928c-6a00e191069e.mirnaseq....</td>\n",
       "      <td>C3N-00180</td>\n",
       "      <td>Solid Tissue Normal</td>\n",
       "    </tr>\n",
       "    <tr>\n",
       "      <th>1</th>\n",
       "      <td>f86240f2-85da-4350-935d-343b54c15381.mirnaseq....</td>\n",
       "      <td>C3N-00852</td>\n",
       "      <td>Primary Tumor</td>\n",
       "    </tr>\n",
       "    <tr>\n",
       "      <th>2</th>\n",
       "      <td>700d3735-2a9e-4d47-9011-4912b36ae726.mirnaseq....</td>\n",
       "      <td>C3N-00149</td>\n",
       "      <td>Solid Tissue Normal</td>\n",
       "    </tr>\n",
       "    <tr>\n",
       "      <th>3</th>\n",
       "      <td>1569ab76-8969-48ee-9730-120d2781d4ea.mirnaseq....</td>\n",
       "      <td>C3N-02769</td>\n",
       "      <td>Primary Tumor</td>\n",
       "    </tr>\n",
       "    <tr>\n",
       "      <th>4</th>\n",
       "      <td>1895b816-2357-45c7-aefc-e15962d9d24f.mirnaseq....</td>\n",
       "      <td>C3L-00977</td>\n",
       "      <td>Primary Tumor</td>\n",
       "    </tr>\n",
       "  </tbody>\n",
       "</table>\n",
       "</div>"
      ],
      "text/plain": [
       "                                           File Name    Case ID  \\\n",
       "0  9b5c9a98-bf21-401b-928c-6a00e191069e.mirnaseq....  C3N-00180   \n",
       "1  f86240f2-85da-4350-935d-343b54c15381.mirnaseq....  C3N-00852   \n",
       "2  700d3735-2a9e-4d47-9011-4912b36ae726.mirnaseq....  C3N-00149   \n",
       "3  1569ab76-8969-48ee-9730-120d2781d4ea.mirnaseq....  C3N-02769   \n",
       "4  1895b816-2357-45c7-aefc-e15962d9d24f.mirnaseq....  C3L-00977   \n",
       "\n",
       "           Sample Type  \n",
       "0  Solid Tissue Normal  \n",
       "1        Primary Tumor  \n",
       "2  Solid Tissue Normal  \n",
       "3        Primary Tumor  \n",
       "4        Primary Tumor  "
      ]
     },
     "execution_count": 25,
     "metadata": {},
     "output_type": "execute_result"
    }
   ],
   "source": [
    "# data cointaining the relation between sample file and patient case id was read\n",
    "\n",
    "data_samples = pd.read_csv('File_names.csv', sep=';')\n",
    "data_samples.head()"
   ]
  },
  {
   "cell_type": "code",
   "execution_count": 26,
   "metadata": {},
   "outputs": [],
   "source": [
    "# 'Case ID' and 'Sample Type' columns were split into sub-strings\n",
    "data_samples['Case ID'] = data_samples['Case ID'].apply(lambda x: x.split(',')[0])\n",
    "data_samples['Sample Type'] = data_samples['Sample Type'].apply(lambda x: x.split(',')[0])"
   ]
  },
  {
   "cell_type": "code",
   "execution_count": 27,
   "metadata": {},
   "outputs": [
    {
     "data": {
      "text/plain": [
       "Primary Tumor          863\n",
       "Solid Tissue Normal    394\n",
       "Name: Sample Type, dtype: int64"
      ]
     },
     "execution_count": 27,
     "metadata": {},
     "output_type": "execute_result"
    }
   ],
   "source": [
    "#There were tumoral and normal samples among data\n",
    "data_samples['Sample Type'].value_counts()"
   ]
  },
  {
   "cell_type": "code",
   "execution_count": 28,
   "metadata": {},
   "outputs": [
    {
     "data": {
      "text/plain": [
       "(863, 2)"
      ]
     },
     "execution_count": 28,
     "metadata": {},
     "output_type": "execute_result"
    }
   ],
   "source": [
    "#only tumoral samples were chosen\n",
    "data_samples_2 =  data_samples.loc[data_samples['Sample Type'] == 'Primary Tumor', ['File Name', 'Case ID']]\n",
    "data_samples_2.shape"
   ]
  },
  {
   "cell_type": "code",
   "execution_count": 29,
   "metadata": {},
   "outputs": [],
   "source": [
    "# A new dataframe was created from merge between data_miRNA_2_b.merge and data_samples_2\n",
    "\n",
    "data_miRNA_3 = data_miRNA_2_b.merge(data_samples_2, how = 'inner', on= 'File Name')"
   ]
  },
  {
   "cell_type": "code",
   "execution_count": 30,
   "metadata": {},
   "outputs": [
    {
     "data": {
      "text/plain": [
       "(863, 1883)"
      ]
     },
     "execution_count": 30,
     "metadata": {},
     "output_type": "execute_result"
    }
   ],
   "source": [
    "# Shape of the new data frame\n",
    "data_miRNA_3.shape"
   ]
  },
  {
   "cell_type": "code",
   "execution_count": 31,
   "metadata": {},
   "outputs": [],
   "source": [
    "# Data with patients clinical features was read\n",
    "\n",
    "data_clinica = pd.read_csv('Clinica2.csv', sep = ';')"
   ]
  },
  {
   "cell_type": "code",
   "execution_count": 32,
   "metadata": {},
   "outputs": [
    {
     "data": {
      "text/html": [
       "<div>\n",
       "<style scoped>\n",
       "    .dataframe tbody tr th:only-of-type {\n",
       "        vertical-align: middle;\n",
       "    }\n",
       "\n",
       "    .dataframe tbody tr th {\n",
       "        vertical-align: top;\n",
       "    }\n",
       "\n",
       "    .dataframe thead th {\n",
       "        text-align: right;\n",
       "    }\n",
       "</style>\n",
       "<table border=\"1\" class=\"dataframe\">\n",
       "  <thead>\n",
       "    <tr style=\"text-align: right;\">\n",
       "      <th></th>\n",
       "      <th>Case ID</th>\n",
       "      <th>ethnicity</th>\n",
       "      <th>gender</th>\n",
       "      <th>age_at_diagnosis</th>\n",
       "      <th>ajcc_pathologic_stage</th>\n",
       "      <th>primary_diagnosis</th>\n",
       "      <th>tumor_grade</th>\n",
       "      <th>tumor_stage</th>\n",
       "    </tr>\n",
       "  </thead>\n",
       "  <tbody>\n",
       "    <tr>\n",
       "      <th>0</th>\n",
       "      <td>C3L-02115</td>\n",
       "      <td>not reported</td>\n",
       "      <td>male</td>\n",
       "      <td>29237.0</td>\n",
       "      <td>Stage IIB</td>\n",
       "      <td>Infiltrating duct carcinoma, NOS</td>\n",
       "      <td>G2</td>\n",
       "      <td>Stage IIB</td>\n",
       "    </tr>\n",
       "    <tr>\n",
       "      <th>1</th>\n",
       "      <td>C3L-00928</td>\n",
       "      <td>not hispanic or latino</td>\n",
       "      <td>female</td>\n",
       "      <td>21418.0</td>\n",
       "      <td>Stage IIB</td>\n",
       "      <td>Infiltrating duct carcinoma, NOS</td>\n",
       "      <td>G1</td>\n",
       "      <td>Stage IIB</td>\n",
       "    </tr>\n",
       "    <tr>\n",
       "      <th>2</th>\n",
       "      <td>C3N-01175</td>\n",
       "      <td>not reported</td>\n",
       "      <td>female</td>\n",
       "      <td>22205.0</td>\n",
       "      <td>Stage III</td>\n",
       "      <td>Renal cell carcinoma, NOS</td>\n",
       "      <td>G2</td>\n",
       "      <td>Stage III</td>\n",
       "    </tr>\n",
       "    <tr>\n",
       "      <th>3</th>\n",
       "      <td>C3N-04276</td>\n",
       "      <td>not reported</td>\n",
       "      <td>male</td>\n",
       "      <td>24876.0</td>\n",
       "      <td>Not Reported</td>\n",
       "      <td>Squamous cell carcinoma, NOS</td>\n",
       "      <td>G2</td>\n",
       "      <td>pT4apN0</td>\n",
       "    </tr>\n",
       "    <tr>\n",
       "      <th>4</th>\n",
       "      <td>C3L-01256</td>\n",
       "      <td>not reported</td>\n",
       "      <td>female</td>\n",
       "      <td>27474.0</td>\n",
       "      <td>Not Reported</td>\n",
       "      <td>Endometrioid adenocarcinoma, NOS</td>\n",
       "      <td>G1</td>\n",
       "      <td>Stage I</td>\n",
       "    </tr>\n",
       "  </tbody>\n",
       "</table>\n",
       "</div>"
      ],
      "text/plain": [
       "     Case ID               ethnicity  gender  age_at_diagnosis  \\\n",
       "0  C3L-02115            not reported    male           29237.0   \n",
       "1  C3L-00928  not hispanic or latino  female           21418.0   \n",
       "2  C3N-01175            not reported  female           22205.0   \n",
       "3  C3N-04276            not reported    male           24876.0   \n",
       "4  C3L-01256            not reported  female           27474.0   \n",
       "\n",
       "  ajcc_pathologic_stage                 primary_diagnosis tumor_grade  \\\n",
       "0             Stage IIB  Infiltrating duct carcinoma, NOS          G2   \n",
       "1             Stage IIB  Infiltrating duct carcinoma, NOS          G1   \n",
       "2             Stage III         Renal cell carcinoma, NOS          G2   \n",
       "3          Not Reported      Squamous cell carcinoma, NOS          G2   \n",
       "4          Not Reported  Endometrioid adenocarcinoma, NOS          G1   \n",
       "\n",
       "  tumor_stage  \n",
       "0   Stage IIB  \n",
       "1   Stage IIB  \n",
       "2   Stage III  \n",
       "3     pT4apN0  \n",
       "4     Stage I  "
      ]
     },
     "execution_count": 32,
     "metadata": {},
     "output_type": "execute_result"
    }
   ],
   "source": [
    "data_clinica.head()"
   ]
  },
  {
   "cell_type": "code",
   "execution_count": 33,
   "metadata": {},
   "outputs": [],
   "source": [
    "# 'case_id' column was renamed\n",
    "data_clinica = data_clinica.rename(columns = {'case_id' : 'Case ID'})"
   ]
  },
  {
   "cell_type": "code",
   "execution_count": 34,
   "metadata": {},
   "outputs": [
    {
     "data": {
      "text/plain": [
       "(777, 8)"
      ]
     },
     "execution_count": 34,
     "metadata": {},
     "output_type": "execute_result"
    }
   ],
   "source": [
    "# duplicates were drop from clinical data frame\n",
    "data_clinica = data_clinica.drop_duplicates(subset ='Case ID', keep='first')\n",
    "data_clinica.shape"
   ]
  },
  {
   "cell_type": "code",
   "execution_count": 35,
   "metadata": {},
   "outputs": [
    {
     "data": {
      "text/plain": [
       "(863, 1883)"
      ]
     },
     "execution_count": 35,
     "metadata": {},
     "output_type": "execute_result"
    }
   ],
   "source": [
    "data_miRNA_3.shape"
   ]
  },
  {
   "cell_type": "code",
   "execution_count": 36,
   "metadata": {},
   "outputs": [],
   "source": [
    "# A new data frame with miRNA expression and clinical feature was made from a merge between data_miRNA_3.merge and data_clinica\n",
    "data_miRNA_4 = data_miRNA_3.merge(data_clinica, how = 'left', on= 'Case ID')"
   ]
  },
  {
   "cell_type": "code",
   "execution_count": 37,
   "metadata": {},
   "outputs": [
    {
     "data": {
      "text/plain": [
       "(863, 1890)"
      ]
     },
     "execution_count": 37,
     "metadata": {},
     "output_type": "execute_result"
    }
   ],
   "source": [
    "#Shape of data frame\n",
    "data_miRNA_4.shape"
   ]
  },
  {
   "cell_type": "code",
   "execution_count": 38,
   "metadata": {},
   "outputs": [
    {
     "data": {
      "text/plain": [
       "hsa-let-7a-1             float64\n",
       "hsa-let-7a-2             float64\n",
       "hsa-let-7a-3             float64\n",
       "hsa-let-7b               float64\n",
       "hsa-let-7c               float64\n",
       "                          ...   \n",
       "age_at_diagnosis         float64\n",
       "ajcc_pathologic_stage     object\n",
       "primary_diagnosis         object\n",
       "tumor_grade               object\n",
       "tumor_stage               object\n",
       "Length: 1890, dtype: object"
      ]
     },
     "execution_count": 38,
     "metadata": {},
     "output_type": "execute_result"
    }
   ],
   "source": [
    "# data type of each column \n",
    "\n",
    "data_miRNA_4.dtypes"
   ]
  },
  {
   "cell_type": "code",
   "execution_count": 39,
   "metadata": {},
   "outputs": [
    {
     "data": {
      "text/plain": [
       "(863, 1890)"
      ]
     },
     "execution_count": 39,
     "metadata": {},
     "output_type": "execute_result"
    }
   ],
   "source": [
    "# This data frame had the information about 863 patients and 1890 features\n",
    "data_miRNA_4.shape"
   ]
  },
  {
   "cell_type": "markdown",
   "metadata": {},
   "source": [
    "### 2- Exploring & Understanding data shape"
   ]
  },
  {
   "cell_type": "code",
   "execution_count": 40,
   "metadata": {},
   "outputs": [
    {
     "data": {
      "text/plain": [
       "['File Name',\n",
       " 'Case ID',\n",
       " 'ethnicity',\n",
       " 'gender',\n",
       " 'ajcc_pathologic_stage',\n",
       " 'primary_diagnosis',\n",
       " 'tumor_grade',\n",
       " 'tumor_stage']"
      ]
     },
     "execution_count": 40,
     "metadata": {},
     "output_type": "execute_result"
    }
   ],
   "source": [
    "# data_miRNA_4 categorical columns list\n",
    "categorical_columns= [col for col in data_miRNA_4.columns if data_miRNA_4[col].dtypes == 'object']\n",
    "categorical_columns"
   ]
  },
  {
   "cell_type": "code",
   "execution_count": 41,
   "metadata": {},
   "outputs": [
    {
     "data": {
      "text/plain": [
       "Squamous cell carcinoma, NOS        217\n",
       "Renal cell carcinoma, NOS           197\n",
       "Infiltrating duct carcinoma, NOS    140\n",
       "Adenocarcinoma, NOS                 111\n",
       "Endometrioid adenocarcinoma, NOS    100\n",
       "Glioblastoma                         98\n",
       "Name: primary_diagnosis, dtype: int64"
      ]
     },
     "execution_count": 41,
     "metadata": {},
     "output_type": "execute_result"
    }
   ],
   "source": [
    "# 'primary_diagnosis' features distribution\n",
    "\n",
    "data_miRNA_4.primary_diagnosis.value_counts()"
   ]
  },
  {
   "cell_type": "code",
   "execution_count": 42,
   "metadata": {},
   "outputs": [
    {
     "data": {
      "text/plain": [
       "G2              428\n",
       "G3              235\n",
       "Not Reported     98\n",
       "G1               76\n",
       "G4               14\n",
       "GX                9\n",
       "Unknown           3\n",
       "Name: tumor_grade, dtype: int64"
      ]
     },
     "execution_count": 42,
     "metadata": {},
     "output_type": "execute_result"
    }
   ],
   "source": [
    "# 'tumor_grade' feature distribution. Tumor grade is the description of a tumor based on how abnormal the tumor cells and the\n",
    "# tumor tissue look under a microscope. It is an indicator of how quickly a tumor is likely to grow and spread.\n",
    "\n",
    "data_miRNA_4.tumor_grade.value_counts()"
   ]
  },
  {
   "cell_type": "code",
   "execution_count": 43,
   "metadata": {},
   "outputs": [
    {
     "data": {
      "text/plain": [
       "Stage I                         165\n",
       "Stage III                       129\n",
       "Not Reported                    103\n",
       "Stage IIB                        87\n",
       "Stage IB                         62\n",
       "Stage IIA                        48\n",
       "Stage II                         45\n",
       "Stage IV                         42\n",
       "Stage IIIA                       37\n",
       "Stage IA                         36\n",
       "Stage IVA                        23\n",
       "III                              10\n",
       "IB                                5\n",
       "pT2pN2b                           5\n",
       "pT2N2                             5\n",
       "IIA                               3\n",
       "IA                                3\n",
       "pT4apN0                           3\n",
       "IVa                               3\n",
       "pT2pN0                            3\n",
       "no resection                      3\n",
       "pT3                               3\n",
       "IVB                               2\n",
       "pT3pNx                            2\n",
       "pT3pN0                            2\n",
       "IV                                2\n",
       "I b                               2\n",
       "Stage IIIB                        2\n",
       "pT2N0                             2\n",
       "pT2N1                             2\n",
       "pT2pNx                            2\n",
       "II                                2\n",
       "II b                              1\n",
       "PT4apN0                           1\n",
       "pT4apN2c                          1\n",
       "pT2, pN2,  pM not applicable      1\n",
       "pT4N0                             1\n",
       "Stage IVB                         1\n",
       "IVb                               1\n",
       "Stage IA3                         1\n",
       "pT1pN0                            1\n",
       "T2                                1\n",
       "pT2 N0                            1\n",
       "IIIB                              1\n",
       "IVA                               1\n",
       "Stage 1B                          1\n",
       "pT3 N2 M(Not Applicable)          1\n",
       "I                                 1\n",
       "pT4apN2b                          1\n",
       "pT2N0Mx                           1\n",
       "pT1pNx                            1\n",
       "pT3pN2b                           1\n",
       "Name: tumor_stage, dtype: int64"
      ]
     },
     "execution_count": 43,
     "metadata": {},
     "output_type": "execute_result"
    }
   ],
   "source": [
    "#'tumor_stage' feature distribution. Staging is the process of finding out how much cancer is in a person’s body \n",
    "# and where it’s located.\n",
    "\n",
    "data_miRNA_4.tumor_stage.value_counts()"
   ]
  },
  {
   "cell_type": "code",
   "execution_count": 44,
   "metadata": {},
   "outputs": [
    {
     "data": {
      "text/plain": [
       "not reported              600\n",
       "not hispanic or latino    241\n",
       "hispanic or latino         22\n",
       "Name: ethnicity, dtype: int64"
      ]
     },
     "execution_count": 44,
     "metadata": {},
     "output_type": "execute_result"
    }
   ],
   "source": [
    "# 'ethnicity' feature distribution. There was a high number of 'Not reported' values\n",
    "data_miRNA_4.ethnicity.value_counts()"
   ]
  },
  {
   "cell_type": "code",
   "execution_count": 45,
   "metadata": {},
   "outputs": [
    {
     "data": {
      "text/plain": [
       "male      529\n",
       "female    334\n",
       "Name: gender, dtype: int64"
      ]
     },
     "execution_count": 45,
     "metadata": {},
     "output_type": "execute_result"
    }
   ],
   "source": [
    "# 'Gender' feature distribution\n",
    "data_miRNA_4.gender.value_counts()"
   ]
  },
  {
   "cell_type": "code",
   "execution_count": 46,
   "metadata": {},
   "outputs": [],
   "source": [
    "#'File Name', 'Case ID' columns were drop since they were not important for modeling \n",
    "\n",
    "data_miRNA_5 = data_miRNA_4.drop(columns =  ['File Name', 'Case ID']) "
   ]
  },
  {
   "cell_type": "code",
   "execution_count": 47,
   "metadata": {},
   "outputs": [
    {
     "data": {
      "text/plain": [
       "hsa-let-7a-1        float64\n",
       "hsa-let-7a-2        float64\n",
       "hsa-let-7a-3        float64\n",
       "hsa-let-7b          float64\n",
       "hsa-let-7c          float64\n",
       "                     ...   \n",
       "hsa-mir-96          float64\n",
       "hsa-mir-98          float64\n",
       "hsa-mir-99a         float64\n",
       "hsa-mir-99b         float64\n",
       "age_at_diagnosis    float64\n",
       "Length: 1882, dtype: object"
      ]
     },
     "execution_count": 47,
     "metadata": {},
     "output_type": "execute_result"
    }
   ],
   "source": [
    "# Numeric columns\n",
    "columnas_numericas = data_miRNA_5.dtypes.loc[data_miRNA_5.dtypes == 'float']\n",
    "columnas_numericas"
   ]
  },
  {
   "cell_type": "code",
   "execution_count": 48,
   "metadata": {
    "scrolled": true
   },
   "outputs": [],
   "source": [
    "# miRNA expression features had mean = 0 which means that no sample expressed those miRNA\n",
    "\n",
    "estadistica=data_miRNA_5.iloc[:, 0:1881].describe()\n",
    "estadistica.reset_index()\n",
    "columnas_media_cero = estadistica.loc[:, estadistica.iloc[2,:] ==0].columns"
   ]
  },
  {
   "cell_type": "code",
   "execution_count": 49,
   "metadata": {},
   "outputs": [
    {
     "data": {
      "text/html": [
       "<div>\n",
       "<style scoped>\n",
       "    .dataframe tbody tr th:only-of-type {\n",
       "        vertical-align: middle;\n",
       "    }\n",
       "\n",
       "    .dataframe tbody tr th {\n",
       "        vertical-align: top;\n",
       "    }\n",
       "\n",
       "    .dataframe thead th {\n",
       "        text-align: right;\n",
       "    }\n",
       "</style>\n",
       "<table border=\"1\" class=\"dataframe\">\n",
       "  <thead>\n",
       "    <tr style=\"text-align: right;\">\n",
       "      <th></th>\n",
       "      <th>hsa-let-7a-1</th>\n",
       "      <th>hsa-let-7a-2</th>\n",
       "      <th>hsa-let-7a-3</th>\n",
       "      <th>hsa-let-7b</th>\n",
       "      <th>hsa-let-7c</th>\n",
       "      <th>hsa-let-7d</th>\n",
       "      <th>hsa-let-7e</th>\n",
       "      <th>hsa-let-7f-1</th>\n",
       "      <th>hsa-let-7f-2</th>\n",
       "      <th>hsa-let-7g</th>\n",
       "      <th>...</th>\n",
       "      <th>hsa-mir-941-5</th>\n",
       "      <th>hsa-mir-942</th>\n",
       "      <th>hsa-mir-943</th>\n",
       "      <th>hsa-mir-944</th>\n",
       "      <th>hsa-mir-95</th>\n",
       "      <th>hsa-mir-9500</th>\n",
       "      <th>hsa-mir-96</th>\n",
       "      <th>hsa-mir-98</th>\n",
       "      <th>hsa-mir-99a</th>\n",
       "      <th>hsa-mir-99b</th>\n",
       "    </tr>\n",
       "  </thead>\n",
       "  <tbody>\n",
       "    <tr>\n",
       "      <th>count</th>\n",
       "      <td>863.000000</td>\n",
       "      <td>863.000000</td>\n",
       "      <td>863.000000</td>\n",
       "      <td>863.000000</td>\n",
       "      <td>863.000000</td>\n",
       "      <td>863.000000</td>\n",
       "      <td>863.000000</td>\n",
       "      <td>863.000000</td>\n",
       "      <td>863.000000</td>\n",
       "      <td>863.000000</td>\n",
       "      <td>...</td>\n",
       "      <td>863.000000</td>\n",
       "      <td>863.000000</td>\n",
       "      <td>863.000000</td>\n",
       "      <td>863.000000</td>\n",
       "      <td>863.000000</td>\n",
       "      <td>863.000000</td>\n",
       "      <td>863.000000</td>\n",
       "      <td>863.000000</td>\n",
       "      <td>863.000000</td>\n",
       "      <td>863.000000</td>\n",
       "    </tr>\n",
       "    <tr>\n",
       "      <th>mean</th>\n",
       "      <td>14.383574</td>\n",
       "      <td>14.335470</td>\n",
       "      <td>14.339580</td>\n",
       "      <td>12.954019</td>\n",
       "      <td>11.315309</td>\n",
       "      <td>11.789605</td>\n",
       "      <td>10.769150</td>\n",
       "      <td>14.221137</td>\n",
       "      <td>14.318544</td>\n",
       "      <td>14.380476</td>\n",
       "      <td>...</td>\n",
       "      <td>-0.013760</td>\n",
       "      <td>4.089779</td>\n",
       "      <td>-0.819872</td>\n",
       "      <td>1.351965</td>\n",
       "      <td>8.131327</td>\n",
       "      <td>-0.004362</td>\n",
       "      <td>6.016607</td>\n",
       "      <td>10.871112</td>\n",
       "      <td>11.642922</td>\n",
       "      <td>11.690872</td>\n",
       "    </tr>\n",
       "    <tr>\n",
       "      <th>std</th>\n",
       "      <td>0.507372</td>\n",
       "      <td>0.505114</td>\n",
       "      <td>0.504180</td>\n",
       "      <td>0.720949</td>\n",
       "      <td>1.332115</td>\n",
       "      <td>0.561443</td>\n",
       "      <td>0.792833</td>\n",
       "      <td>0.337176</td>\n",
       "      <td>0.340354</td>\n",
       "      <td>0.468495</td>\n",
       "      <td>...</td>\n",
       "      <td>0.212660</td>\n",
       "      <td>0.957223</td>\n",
       "      <td>1.243184</td>\n",
       "      <td>3.524565</td>\n",
       "      <td>1.126795</td>\n",
       "      <td>0.128128</td>\n",
       "      <td>1.635635</td>\n",
       "      <td>0.557721</td>\n",
       "      <td>1.308473</td>\n",
       "      <td>0.748304</td>\n",
       "    </tr>\n",
       "    <tr>\n",
       "      <th>min</th>\n",
       "      <td>12.852774</td>\n",
       "      <td>12.791184</td>\n",
       "      <td>12.825875</td>\n",
       "      <td>10.917210</td>\n",
       "      <td>6.699609</td>\n",
       "      <td>9.944556</td>\n",
       "      <td>7.264274</td>\n",
       "      <td>12.735097</td>\n",
       "      <td>12.856574</td>\n",
       "      <td>12.981018</td>\n",
       "      <td>...</td>\n",
       "      <td>-4.025453</td>\n",
       "      <td>1.057234</td>\n",
       "      <td>-4.132920</td>\n",
       "      <td>-4.244029</td>\n",
       "      <td>5.104085</td>\n",
       "      <td>-3.763994</td>\n",
       "      <td>0.320968</td>\n",
       "      <td>9.283640</td>\n",
       "      <td>4.221561</td>\n",
       "      <td>8.637580</td>\n",
       "    </tr>\n",
       "    <tr>\n",
       "      <th>25%</th>\n",
       "      <td>14.049753</td>\n",
       "      <td>14.003408</td>\n",
       "      <td>14.006577</td>\n",
       "      <td>12.488001</td>\n",
       "      <td>10.460964</td>\n",
       "      <td>11.438397</td>\n",
       "      <td>10.294655</td>\n",
       "      <td>14.005631</td>\n",
       "      <td>14.097075</td>\n",
       "      <td>14.089838</td>\n",
       "      <td>...</td>\n",
       "      <td>0.000000</td>\n",
       "      <td>3.435919</td>\n",
       "      <td>-1.742053</td>\n",
       "      <td>-1.086384</td>\n",
       "      <td>7.351694</td>\n",
       "      <td>0.000000</td>\n",
       "      <td>5.119649</td>\n",
       "      <td>10.481393</td>\n",
       "      <td>10.825722</td>\n",
       "      <td>11.189159</td>\n",
       "    </tr>\n",
       "    <tr>\n",
       "      <th>50%</th>\n",
       "      <td>14.362578</td>\n",
       "      <td>14.313049</td>\n",
       "      <td>14.316659</td>\n",
       "      <td>12.914994</td>\n",
       "      <td>11.322556</td>\n",
       "      <td>11.751097</td>\n",
       "      <td>10.817301</td>\n",
       "      <td>14.228597</td>\n",
       "      <td>14.328963</td>\n",
       "      <td>14.355252</td>\n",
       "      <td>...</td>\n",
       "      <td>0.000000</td>\n",
       "      <td>3.962462</td>\n",
       "      <td>0.000000</td>\n",
       "      <td>0.000000</td>\n",
       "      <td>8.172360</td>\n",
       "      <td>0.000000</td>\n",
       "      <td>6.212974</td>\n",
       "      <td>10.799959</td>\n",
       "      <td>11.646281</td>\n",
       "      <td>11.702781</td>\n",
       "    </tr>\n",
       "    <tr>\n",
       "      <th>75%</th>\n",
       "      <td>14.683670</td>\n",
       "      <td>14.636795</td>\n",
       "      <td>14.642575</td>\n",
       "      <td>13.343581</td>\n",
       "      <td>12.166434</td>\n",
       "      <td>12.079387</td>\n",
       "      <td>11.205579</td>\n",
       "      <td>14.454533</td>\n",
       "      <td>14.546984</td>\n",
       "      <td>14.584419</td>\n",
       "      <td>...</td>\n",
       "      <td>0.000000</td>\n",
       "      <td>4.689783</td>\n",
       "      <td>0.000000</td>\n",
       "      <td>3.702206</td>\n",
       "      <td>8.866718</td>\n",
       "      <td>0.000000</td>\n",
       "      <td>7.122635</td>\n",
       "      <td>11.184384</td>\n",
       "      <td>12.511042</td>\n",
       "      <td>12.181552</td>\n",
       "    </tr>\n",
       "    <tr>\n",
       "      <th>max</th>\n",
       "      <td>16.319666</td>\n",
       "      <td>16.254263</td>\n",
       "      <td>16.262363</td>\n",
       "      <td>16.385453</td>\n",
       "      <td>14.823193</td>\n",
       "      <td>14.119062</td>\n",
       "      <td>13.808404</td>\n",
       "      <td>15.448210</td>\n",
       "      <td>15.547704</td>\n",
       "      <td>16.193304</td>\n",
       "      <td>...</td>\n",
       "      <td>0.000000</td>\n",
       "      <td>7.730456</td>\n",
       "      <td>0.803338</td>\n",
       "      <td>9.648082</td>\n",
       "      <td>11.747144</td>\n",
       "      <td>0.000000</td>\n",
       "      <td>11.016087</td>\n",
       "      <td>12.911053</td>\n",
       "      <td>15.248102</td>\n",
       "      <td>14.361467</td>\n",
       "    </tr>\n",
       "  </tbody>\n",
       "</table>\n",
       "<p>8 rows × 1881 columns</p>\n",
       "</div>"
      ],
      "text/plain": [
       "       hsa-let-7a-1  hsa-let-7a-2  hsa-let-7a-3  hsa-let-7b  hsa-let-7c  \\\n",
       "count    863.000000    863.000000    863.000000  863.000000  863.000000   \n",
       "mean      14.383574     14.335470     14.339580   12.954019   11.315309   \n",
       "std        0.507372      0.505114      0.504180    0.720949    1.332115   \n",
       "min       12.852774     12.791184     12.825875   10.917210    6.699609   \n",
       "25%       14.049753     14.003408     14.006577   12.488001   10.460964   \n",
       "50%       14.362578     14.313049     14.316659   12.914994   11.322556   \n",
       "75%       14.683670     14.636795     14.642575   13.343581   12.166434   \n",
       "max       16.319666     16.254263     16.262363   16.385453   14.823193   \n",
       "\n",
       "       hsa-let-7d  hsa-let-7e  hsa-let-7f-1  hsa-let-7f-2  hsa-let-7g  ...  \\\n",
       "count  863.000000  863.000000    863.000000    863.000000  863.000000  ...   \n",
       "mean    11.789605   10.769150     14.221137     14.318544   14.380476  ...   \n",
       "std      0.561443    0.792833      0.337176      0.340354    0.468495  ...   \n",
       "min      9.944556    7.264274     12.735097     12.856574   12.981018  ...   \n",
       "25%     11.438397   10.294655     14.005631     14.097075   14.089838  ...   \n",
       "50%     11.751097   10.817301     14.228597     14.328963   14.355252  ...   \n",
       "75%     12.079387   11.205579     14.454533     14.546984   14.584419  ...   \n",
       "max     14.119062   13.808404     15.448210     15.547704   16.193304  ...   \n",
       "\n",
       "       hsa-mir-941-5  hsa-mir-942  hsa-mir-943  hsa-mir-944  hsa-mir-95  \\\n",
       "count     863.000000   863.000000   863.000000   863.000000  863.000000   \n",
       "mean       -0.013760     4.089779    -0.819872     1.351965    8.131327   \n",
       "std         0.212660     0.957223     1.243184     3.524565    1.126795   \n",
       "min        -4.025453     1.057234    -4.132920    -4.244029    5.104085   \n",
       "25%         0.000000     3.435919    -1.742053    -1.086384    7.351694   \n",
       "50%         0.000000     3.962462     0.000000     0.000000    8.172360   \n",
       "75%         0.000000     4.689783     0.000000     3.702206    8.866718   \n",
       "max         0.000000     7.730456     0.803338     9.648082   11.747144   \n",
       "\n",
       "       hsa-mir-9500  hsa-mir-96  hsa-mir-98  hsa-mir-99a  hsa-mir-99b  \n",
       "count    863.000000  863.000000  863.000000   863.000000   863.000000  \n",
       "mean      -0.004362    6.016607   10.871112    11.642922    11.690872  \n",
       "std        0.128128    1.635635    0.557721     1.308473     0.748304  \n",
       "min       -3.763994    0.320968    9.283640     4.221561     8.637580  \n",
       "25%        0.000000    5.119649   10.481393    10.825722    11.189159  \n",
       "50%        0.000000    6.212974   10.799959    11.646281    11.702781  \n",
       "75%        0.000000    7.122635   11.184384    12.511042    12.181552  \n",
       "max        0.000000   11.016087   12.911053    15.248102    14.361467  \n",
       "\n",
       "[8 rows x 1881 columns]"
      ]
     },
     "execution_count": 49,
     "metadata": {},
     "output_type": "execute_result"
    }
   ],
   "source": [
    "estadistica\n"
   ]
  },
  {
   "cell_type": "code",
   "execution_count": 50,
   "metadata": {},
   "outputs": [
    {
     "data": {
      "text/plain": [
       "Index(['hsa-mir-103b-1', 'hsa-mir-103b-2', 'hsa-mir-1202', 'hsa-mir-1203',\n",
       "       'hsa-mir-1208', 'hsa-mir-1244-3', 'hsa-mir-1244-4', 'hsa-mir-1255b-1',\n",
       "       'hsa-mir-1268a', 'hsa-mir-1273d',\n",
       "       ...\n",
       "       'hsa-mir-8083', 'hsa-mir-8084', 'hsa-mir-8086', 'hsa-mir-8087',\n",
       "       'hsa-mir-8088', 'hsa-mir-8485', 'hsa-mir-920', 'hsa-mir-924',\n",
       "       'hsa-mir-941-2', 'hsa-mir-941-3'],\n",
       "      dtype='object', length=205)"
      ]
     },
     "execution_count": 50,
     "metadata": {},
     "output_type": "execute_result"
    }
   ],
   "source": [
    "#There were 206  miRNA that had no expression in any sample\n",
    "columnas_media_cero"
   ]
  },
  {
   "cell_type": "code",
   "execution_count": 51,
   "metadata": {},
   "outputs": [],
   "source": [
    "# Those miRNA were dropped\n",
    "\n",
    "data_miRNA_5 = data_miRNA_5.drop(columns = columnas_media_cero)"
   ]
  },
  {
   "cell_type": "code",
   "execution_count": 52,
   "metadata": {},
   "outputs": [
    {
     "data": {
      "text/plain": [
       "(863, 1683)"
      ]
     },
     "execution_count": 52,
     "metadata": {},
     "output_type": "execute_result"
    }
   ],
   "source": [
    "# New shape od data frame\n",
    "data_miRNA_5.shape"
   ]
  },
  {
   "cell_type": "code",
   "execution_count": 53,
   "metadata": {},
   "outputs": [
    {
     "data": {
      "text/plain": [
       "hsa-let-7a-1             0\n",
       "hsa-let-7a-2             0\n",
       "hsa-let-7a-3             0\n",
       "hsa-let-7b               0\n",
       "hsa-let-7c               0\n",
       "                        ..\n",
       "age_at_diagnosis         5\n",
       "ajcc_pathologic_stage    0\n",
       "primary_diagnosis        0\n",
       "tumor_grade              0\n",
       "tumor_stage              0\n",
       "Length: 1683, dtype: int64"
      ]
     },
     "execution_count": 53,
     "metadata": {},
     "output_type": "execute_result"
    }
   ],
   "source": [
    "# Nulls quantification\n",
    "data_miRNA_5.isnull().sum()"
   ]
  },
  {
   "cell_type": "code",
   "execution_count": 54,
   "metadata": {},
   "outputs": [],
   "source": [
    "#nulls elimination\n",
    "data_miRNA_5.dropna(subset = ['age_at_diagnosis'], how = 'all', axis = 0, inplace = True)"
   ]
  },
  {
   "cell_type": "code",
   "execution_count": 55,
   "metadata": {},
   "outputs": [
    {
     "data": {
      "text/plain": [
       "False"
      ]
     },
     "execution_count": 55,
     "metadata": {},
     "output_type": "execute_result"
    }
   ],
   "source": [
    "data_miRNA_5.isnull().sum().any()"
   ]
  },
  {
   "cell_type": "code",
   "execution_count": 56,
   "metadata": {},
   "outputs": [],
   "source": [
    "import seaborn as sns\n",
    "%matplotlib inline\n",
    "import matplotlib as mpl\n",
    "import matplotlib.pyplot as plt\n"
   ]
  },
  {
   "cell_type": "code",
   "execution_count": 57,
   "metadata": {},
   "outputs": [
    {
     "data": {
      "image/png": "[encoded data removed]",
      "text/plain": [
       "<Figure size 720x288 with 3 Axes>"
      ]
     },
     "metadata": {
      "needs_background": "light"
     },
     "output_type": "display_data"
    }
   ],
   "source": [
    "# Visualization of demographic features\n",
    "f, (ax1, ax2, ax3) = plt.subplots(1,3, figsize = (10,4))\n",
    "\n",
    "ax1.pie(data_miRNA_5.ethnicity.value_counts(), labels = data_miRNA_5.ethnicity.unique());\n",
    "ax1.legend(data_miRNA_5.ethnicity.unique(),loc='center left', bbox_to_anchor=(0, -0.6, 0.5, 1))\n",
    "ax1.set_title('Ethnicity', fontweight =\"bold\")\n",
    "ax1.autoscale()\n",
    "ax2.pie(data_miRNA_5.gender.value_counts(), labels = data_miRNA_5.gender.unique());\n",
    "ax2.legend(data_miRNA_5.gender.unique(),loc='center left', bbox_to_anchor=(0, -0.6, 0.5, 1))\n",
    "ax2.set_title('Gender', fontweight =\"bold\")\n",
    "ax3.autoscale()\n",
    "sns.kdeplot(data_miRNA_5.age_at_diagnosis/365, ax = ax3)\n",
    "ax3.set_title('Age at index', fontweight =\"bold\")\n",
    "ax3.autoscale()\n",
    "plt.subplots_adjust(left=0.1,\n",
    "                    bottom=0.2, \n",
    "                    right=1, \n",
    "                    top=1.2, \n",
    "                    wspace=0.3, \n",
    "                    hspace=0.3)\n"
   ]
  },
  {
   "cell_type": "code",
   "execution_count": 58,
   "metadata": {},
   "outputs": [
    {
     "data": {
      "image/png": "[encoded data removed]",
      "text/plain": [
       "<Figure size 720x720 with 4 Axes>"
      ]
     },
     "metadata": {},
     "output_type": "display_data"
    }
   ],
   "source": [
    "# Visualization of tumoral features\n",
    "f, ax = plt.subplots(2,2, figsize = (10,10))\n",
    "\n",
    "ax[0,0].pie(data_miRNA_5.ajcc_pathologic_stage.value_counts());\n",
    "ax[0,0].legend(data_miRNA_5.ajcc_pathologic_stage.value_counts().index,loc='center left', bbox_to_anchor=(-0.8, -0.55, 0.5, 1), ncol =2)\n",
    "ax[0,0].set_title('AJCC Pathologic Stage', fontweight =\"bold\")\n",
    "\n",
    "ax[0,1].pie(data_miRNA_5.tumor_grade.value_counts());\n",
    "ax[0,1].legend(data_miRNA_5.tumor_grade.value_counts().index,loc='center right', bbox_to_anchor=(0.9, -0.55, 0.5, 1))\n",
    "ax[0,1].set_title('Tumor Grade', fontweight =\"bold\")\n",
    "\n",
    "\n",
    "ax[1,0].pie(data_miRNA_5.tumor_stage.value_counts());\n",
    "ax[1,0].legend(data_miRNA_5.tumor_stage.value_counts().index,loc='center left', bbox_to_anchor=(-1, -0.95, 0.5, 1), ncol = 3)\n",
    "ax[1,0].set_title('Tumor Stage', fontweight =\"bold\")\n",
    "   \n",
    "ax[1,1].pie(data_miRNA_5.primary_diagnosis.value_counts());\n",
    "ax[1,1].legend(data_miRNA_5.primary_diagnosis.value_counts().index,loc='center left', bbox_to_anchor=(.9, -0.65, 0.5, 1))\n",
    "ax[1,1].set_title('Primary Diagnosis', fontweight =\"bold\")\n",
    "\n",
    "\n",
    "plt.subplots_adjust(left=0.1,\n",
    "                    bottom=0.2, \n",
    "                    right=1, \n",
    "                    top=1.2, \n",
    "                    wspace=0.3, \n",
    "                    hspace=0.3)"
   ]
  },
  {
   "cell_type": "markdown",
   "metadata": {},
   "source": [
    "#### * The T refers to the size and extent of the main tumor. The main tumor is usually called the primary tumor.\n",
    "#### * The N refers to the the number of nearby lymph nodes that have cancer.\n",
    "#### * The M refers to whether the cancer has metastasized. This means that the cancer has spread from the primary tumor to other parts of the body"
   ]
  },
  {
   "cell_type": "markdown",
   "metadata": {},
   "source": [
    "### PRIMARY TUMOR (T)\n",
    "#### TX: Main tumor cannot be measured.\n",
    "#### T0: Main tumor cannot be found.\n",
    "#### T1, T2, T3, T4: Refers to the size and/or extent of the main tumor. The higher the number after the T, the larger the tumor or the more it has grown into nearby tissues. \n",
    "#### T's may be further divided to provide more detail, such as T3a and T3b.\n"
   ]
  },
  {
   "cell_type": "markdown",
   "metadata": {},
   "source": [
    "### DISTANT METASTASES (M)\n",
    "#### If there are no symptoms or signs of distant metastasis, M is categorized as clinically M0\n",
    "#### If there is clinical evidence of distant metastases on physical examination, imaging studies, or invasive procedure M1\n",
    "#### Uncertain MX\n",
    "#### Patients with circulating tumor cells (CTCs) in  blood, or disseminated tumor cells (DTCs) in organs and micro-metastasis in bone marrow detected by IHC or molecular techniques are categorized as cM0(i+)"
   ]
  },
  {
   "cell_type": "markdown",
   "metadata": {},
   "source": [
    "### REGIONAL LYMPH NODES (N)\n",
    "#### NX: Cancer in nearby lymph nodes cannot be measured.\n",
    "#### N0: There is no cancer in nearby lymph nodes.\n",
    "#### N1, N2, N3: Refers to the number and location of lymph nodes that contain cancer. \n",
    "#### The higher the number after the N, the more lymph nodes that contain cancer."
   ]
  },
  {
   "cell_type": "markdown",
   "metadata": {},
   "source": [
    "### 3- Feature Engineering"
   ]
  },
  {
   "cell_type": "code",
   "execution_count": 59,
   "metadata": {},
   "outputs": [
    {
     "data": {
      "text/plain": [
       "Not Reported    241\n",
       "Stage III       125\n",
       "Stage I          94\n",
       "Stage IIB        88\n",
       "Stage IB         69\n",
       "Stage IIA        51\n",
       "Stage IV         42\n",
       "Stage II         39\n",
       "Stage IA         38\n",
       "Stage IIIA       37\n",
       "Stage IVA        27\n",
       "Stage IIIB        3\n",
       "Stage IVB         3\n",
       "Stage IA3         1\n",
       "Name: ajcc_pathologic_stage, dtype: int64"
      ]
     },
     "execution_count": 59,
     "metadata": {},
     "output_type": "execute_result"
    }
   ],
   "source": [
    "#There were a big proportion of 'Not reported' cases in ajcc_pathologic_stage\n",
    "data_miRNA_5.ajcc_pathologic_stage.value_counts().round(2)"
   ]
  },
  {
   "cell_type": "code",
   "execution_count": 60,
   "metadata": {},
   "outputs": [],
   "source": [
    "# 'tumor_stage' value_counts resulted in a big number of tumor stage labels "
   ]
  },
  {
   "cell_type": "code",
   "execution_count": 61,
   "metadata": {},
   "outputs": [],
   "source": [
    "#In order to unify labels, tumor_stage column was shifted to capital, and the word stge were eliminated\n",
    "data_miRNA_5.loc[:, 'tumor_stage'] = data_miRNA_5.loc[:, 'tumor_stage'].apply(lambda x: x.upper().replace('A', '').replace('B', '')\\\n",
    "                                                                              .replace('C', '').replace('STGE III', 'III')\\\n",
    "                                                                              .replace('STGE II', 'II').replace('STGE I', 'I').replace('STGE 1', 'I').replace('STGE IV', 'IV'))\n"
   ]
  },
  {
   "cell_type": "code",
   "execution_count": 62,
   "metadata": {},
   "outputs": [
    {
     "data": {
      "text/plain": [
       "I                           273\n",
       "II                          185\n",
       "III                         179\n",
       "NOT REPORTED                 98\n",
       "IV                           75\n",
       "PT2PN2                        5\n",
       "PT2N2                         5\n",
       "PT4PN0                        4\n",
       "NO RESETION                   3\n",
       "PT3                           3\n",
       "PT2PN0                        3\n",
       "I                             2\n",
       "PT3PN0                        2\n",
       "PT2N0                         2\n",
       "PT2N1                         2\n",
       "PT2PNX                        2\n",
       "PT3PNX                        2\n",
       "PT4PN2                        2\n",
       "I3                            1\n",
       "T2                            1\n",
       "PT2 N0                        1\n",
       "II                            1\n",
       "PT3 N2 M(NOT PPLILE)          1\n",
       "PT2, PN2,  PM NOT PPLILE      1\n",
       "PT1PN0                        1\n",
       "PT3PN2                        1\n",
       "PT4N0                         1\n",
       "PT1PNX                        1\n",
       "PT2N0MX                       1\n",
       "Name: tumor_stage, dtype: int64"
      ]
     },
     "execution_count": 62,
     "metadata": {},
     "output_type": "execute_result"
    }
   ],
   "source": [
    "data_miRNA_5.tumor_stage.value_counts()"
   ]
  },
  {
   "cell_type": "code",
   "execution_count": 63,
   "metadata": {},
   "outputs": [],
   "source": [
    "# Acording to TMN classification any  tumor with N2 classification belongs to Stage IV. A list containing 'N2' was made and \n",
    "# used to repaced N2 for IV\n",
    "\n",
    "unicos = list(data_miRNA_5.tumor_stage.unique())"
   ]
  },
  {
   "cell_type": "code",
   "execution_count": 64,
   "metadata": {},
   "outputs": [
    {
     "data": {
      "text/plain": [
       "['PT4PN2',\n",
       " 'PT2PN2',\n",
       " 'PT2N2',\n",
       " 'PT3PN2',\n",
       " 'PT3 N2 M(NOT PPLILE)',\n",
       " 'PT2, PN2,  PM NOT PPLILE']"
      ]
     },
     "execution_count": 64,
     "metadata": {},
     "output_type": "execute_result"
    }
   ],
   "source": [
    "N2= [i for i in unicos if 'N2' in i]\n",
    "N2"
   ]
  },
  {
   "cell_type": "code",
   "execution_count": 65,
   "metadata": {},
   "outputs": [],
   "source": [
    "for i in N2:\n",
    "    data_miRNA_5.loc[:, 'tumor_stage'] = data_miRNA_5.loc[:, 'tumor_stage'].apply(lambda x: x.replace(i, 'IV'))\n",
    "unicos_2 = list(data_miRNA_5.tumor_stage.unique())"
   ]
  },
  {
   "cell_type": "code",
   "execution_count": 66,
   "metadata": {},
   "outputs": [
    {
     "data": {
      "text/plain": [
       "I               273\n",
       "II              185\n",
       "III             179\n",
       "NOT REPORTED     98\n",
       "IV               90\n",
       "PT4PN0            4\n",
       "NO RESETION       3\n",
       "PT3               3\n",
       "PT2PN0            3\n",
       "I                 2\n",
       "PT3PN0            2\n",
       "PT2N1             2\n",
       "PT2PNX            2\n",
       "PT3PNX            2\n",
       "PT2N0             2\n",
       "I3                1\n",
       "T2                1\n",
       "PT2 N0            1\n",
       "II                1\n",
       "PT1PN0            1\n",
       "PT4N0             1\n",
       "PT1PNX            1\n",
       "PT2N0MX           1\n",
       "Name: tumor_stage, dtype: int64"
      ]
     },
     "execution_count": 66,
     "metadata": {},
     "output_type": "execute_result"
    }
   ],
   "source": [
    "data_miRNA_5.tumor_stage.value_counts()"
   ]
  },
  {
   "cell_type": "code",
   "execution_count": 67,
   "metadata": {},
   "outputs": [
    {
     "data": {
      "text/plain": [
       "['PT1PN0', 'PT1PNX']"
      ]
     },
     "execution_count": 67,
     "metadata": {},
     "output_type": "execute_result"
    }
   ],
   "source": [
    "# # Acording to TMN classification any  tumor with T1 and NX or N0 classification belongs to Stage I. A list containing 'T2' was made and \n",
    "# used to repaced T2 for I\n",
    "\n",
    "T1= [i for i in unicos_2 if 'T1' in i]\n",
    "T1"
   ]
  },
  {
   "cell_type": "code",
   "execution_count": 68,
   "metadata": {},
   "outputs": [],
   "source": [
    "for i in T1:\n",
    "    data_miRNA_5.loc[:, 'tumor_stage'] = data_miRNA_5.loc[:, 'tumor_stage'].apply(lambda x: x.replace(i, 'I'))\n",
    "unicos_3 = list(data_miRNA_5.tumor_stage.unique())    "
   ]
  },
  {
   "cell_type": "code",
   "execution_count": 69,
   "metadata": {},
   "outputs": [
    {
     "data": {
      "text/plain": [
       "['PT2PN0', 'PT2N0', 'PT2N1', 'PT2PNX', 'T2', 'PT2 N0', 'PT2N0MX']"
      ]
     },
     "execution_count": 69,
     "metadata": {},
     "output_type": "execute_result"
    }
   ],
   "source": [
    "# Acording to TMN classification any  tumor with T2 with NX or N0 classifications belongs to Stage II. A list containing 'T2' was made and \n",
    "# used to repaced T2 for II\n",
    "T2= [i for i in unicos_3 if 'T2' in i]\n",
    "T2"
   ]
  },
  {
   "cell_type": "code",
   "execution_count": 70,
   "metadata": {},
   "outputs": [],
   "source": [
    "for i in T2:\n",
    "    data_miRNA_5.loc[:, 'tumor_stage'] = data_miRNA_5.loc[:, 'tumor_stage'].apply(lambda x: x.replace(i, 'II'))\n",
    "unicos_4 = list(data_miRNA_5.tumor_stage.unique())   "
   ]
  },
  {
   "cell_type": "code",
   "execution_count": 71,
   "metadata": {},
   "outputs": [
    {
     "data": {
      "text/plain": [
       "['PT3PNX', 'PT3PN0', 'PT3']"
      ]
     },
     "execution_count": 71,
     "metadata": {},
     "output_type": "execute_result"
    }
   ],
   "source": [
    "# Acording to TMN classification any  tumor with T3 and NX or N0  classification belongs to Stage III. A list containing 'T3' was made and \n",
    "# used to repaced T3 for III\n",
    "\n",
    "T3= [i for i in unicos_4 if 'T3' in i]\n",
    "T3"
   ]
  },
  {
   "cell_type": "code",
   "execution_count": 72,
   "metadata": {},
   "outputs": [],
   "source": [
    "for i in T3:\n",
    "    data_miRNA_5.loc[:, 'tumor_stage'] = data_miRNA_5.loc[:, 'tumor_stage'].apply(lambda x: x.replace(i, 'III'))\n",
    "unicos_5 = list(data_miRNA_5.tumor_stage.unique())  "
   ]
  },
  {
   "cell_type": "code",
   "execution_count": 73,
   "metadata": {},
   "outputs": [
    {
     "data": {
      "text/plain": [
       "['PT4N0', 'PT4PN0']"
      ]
     },
     "execution_count": 73,
     "metadata": {},
     "output_type": "execute_result"
    }
   ],
   "source": [
    "# Acording to TMN classification any  tumor with T4 and NX or N0 classification belongs to Stage IV. A list containing 'T42' was made and \n",
    "# used to repaced T4 for IV\n",
    "\n",
    "T4= [i for i in unicos_5 if 'T4' in i]\n",
    "T4"
   ]
  },
  {
   "cell_type": "code",
   "execution_count": 74,
   "metadata": {},
   "outputs": [],
   "source": [
    "for i in T4:\n",
    "    data_miRNA_5.loc[:, 'tumor_stage'] = data_miRNA_5.loc[:, 'tumor_stage'].apply(lambda x: x.replace(i, 'IV'))\n",
    "    "
   ]
  },
  {
   "cell_type": "code",
   "execution_count": 75,
   "metadata": {},
   "outputs": [
    {
     "data": {
      "text/plain": [
       "I               275\n",
       "II              195\n",
       "III             186\n",
       "NOT REPORTED     98\n",
       "IV               95\n",
       "NO RESETION       3\n",
       "I                 2\n",
       "I3                1\n",
       "II                1\n",
       "IIMX              1\n",
       "PII N0            1\n",
       "Name: tumor_stage, dtype: int64"
      ]
     },
     "execution_count": 75,
     "metadata": {},
     "output_type": "execute_result"
    }
   ],
   "source": [
    "data_miRNA_5.tumor_stage.value_counts()"
   ]
  },
  {
   "cell_type": "code",
   "execution_count": 76,
   "metadata": {},
   "outputs": [],
   "source": [
    "# 'tumor_stage' column was further curated\n",
    "data_miRNA_5.loc[:, 'tumor_stage'] = data_miRNA_5.loc[:, 'tumor_stage'].apply(lambda x: x.replace('NO RESETION', 'NOT REPORTED')\\\n",
    "                                                                              .replace('3', '').replace('MX', '')\\\n",
    "                                                                              .replace('PII N0', 'II'))"
   ]
  },
  {
   "cell_type": "code",
   "execution_count": 77,
   "metadata": {},
   "outputs": [
    {
     "data": {
      "text/plain": [
       "I               276\n",
       "II              197\n",
       "III             186\n",
       "NOT REPORTED    101\n",
       "IV               95\n",
       "I                 2\n",
       "II                1\n",
       "Name: tumor_stage, dtype: int64"
      ]
     },
     "execution_count": 77,
     "metadata": {},
     "output_type": "execute_result"
    }
   ],
   "source": [
    "data_miRNA_5.tumor_stage.value_counts()"
   ]
  },
  {
   "cell_type": "code",
   "execution_count": 78,
   "metadata": {},
   "outputs": [
    {
     "data": {
      "text/plain": [
       "(855, 1683)"
      ]
     },
     "execution_count": 78,
     "metadata": {},
     "output_type": "execute_result"
    }
   ],
   "source": [
    "to_remove = data_miRNA_5.tumor_stage.value_counts().index[data_miRNA_5.tumor_stage.value_counts().values <3]\n",
    "data_miRNA_5 = data_miRNA_5[~data_miRNA_5.tumor_stage.isin(to_remove)]\n",
    "data_miRNA_5.shape"
   ]
  },
  {
   "cell_type": "code",
   "execution_count": 79,
   "metadata": {},
   "outputs": [
    {
     "data": {
      "text/plain": [
       "I               276\n",
       "II              197\n",
       "III             186\n",
       "NOT REPORTED    101\n",
       "IV               95\n",
       "Name: tumor_stage, dtype: int64"
      ]
     },
     "execution_count": 79,
     "metadata": {},
     "output_type": "execute_result"
    }
   ],
   "source": [
    "data_miRNA_5.tumor_stage.value_counts()"
   ]
  },
  {
   "cell_type": "code",
   "execution_count": 80,
   "metadata": {},
   "outputs": [],
   "source": [
    "#Columns with high proportion of 'Not reported' values were dropped\n",
    "data_miRNA_5=   data_miRNA_5.drop(columns = ['ethnicity','ajcc_pathologic_stage'])"
   ]
  },
  {
   "cell_type": "code",
   "execution_count": 81,
   "metadata": {},
   "outputs": [
    {
     "data": {
      "text/plain": [
       "G2              422\n",
       "G3              233\n",
       "Not Reported     98\n",
       "G1               76\n",
       "G4               14\n",
       "GX                9\n",
       "Unknown           3\n",
       "Name: tumor_grade, dtype: int64"
      ]
     },
     "execution_count": 81,
     "metadata": {},
     "output_type": "execute_result"
    }
   ],
   "source": [
    "# 'tumor_grade' value counts\n",
    "data_miRNA_5.tumor_grade.value_counts()"
   ]
  },
  {
   "cell_type": "code",
   "execution_count": 82,
   "metadata": {},
   "outputs": [
    {
     "data": {
      "text/plain": [
       "G2              422\n",
       "G3              233\n",
       "Not Reported     98\n",
       "G1               76\n",
       "G4               14\n",
       "Name: tumor_grade, dtype: int64"
      ]
     },
     "execution_count": 82,
     "metadata": {},
     "output_type": "execute_result"
    }
   ],
   "source": [
    "#labels with less than 10 events were eliminated\n",
    "to_remove = data_miRNA_5.tumor_grade.value_counts().index[data_miRNA_5.tumor_grade.value_counts().values <10]\n",
    "data_miRNA_5 = data_miRNA_5[~data_miRNA_5.tumor_grade.isin(to_remove)]\n",
    "data_miRNA_5.tumor_grade.value_counts()"
   ]
  },
  {
   "cell_type": "code",
   "execution_count": 83,
   "metadata": {},
   "outputs": [
    {
     "data": {
      "image/png": "[encoded data removed]",
      "text/plain": [
       "<Figure size 432x288 with 1 Axes>"
      ]
     },
     "metadata": {
      "needs_background": "light"
     },
     "output_type": "display_data"
    }
   ],
   "source": [
    "# tumor_ grade distribution plot\n",
    "plt.bar(data_miRNA_5.tumor_grade.value_counts(normalize = True).index, data_miRNA_5.tumor_grade.value_counts(normalize = True).values)\n",
    "plt.xticks(data_miRNA_5.tumor_grade.value_counts(normalize = True).index)\n",
    "plt.xlabel('Tumor Grade')\n",
    "plt.ylabel('Frequency')\n",
    "plt.show()\n"
   ]
  },
  {
   "cell_type": "code",
   "execution_count": 84,
   "metadata": {},
   "outputs": [],
   "source": [
    "#A cuarted data frame was saved as csv \n",
    "data_miRNA_5.to_csv('data_miRNA.csv')"
   ]
  },
  {
   "cell_type": "markdown",
   "metadata": {},
   "source": [
    "### 4- Data pre-processing for modeling\n"
   ]
  },
  {
   "cell_type": "code",
   "execution_count": 85,
   "metadata": {},
   "outputs": [
    {
     "data": {
      "text/plain": [
       "Glioblastoma    98\n",
       "Name: primary_diagnosis, dtype: int64"
      ]
     },
     "execution_count": 85,
     "metadata": {},
     "output_type": "execute_result"
    }
   ],
   "source": [
    "# All 'Not Reported' events in tumor_grade column corresponded to  glioblastomas. Since tumor_grade would be the prediction\n",
    "# target, glioblastoma rows were dropped\n",
    "\n",
    "data_miRNA_5.loc[data_miRNA_5.tumor_grade =='Not Reported', 'primary_diagnosis'].value_counts()"
   ]
  },
  {
   "cell_type": "code",
   "execution_count": 86,
   "metadata": {},
   "outputs": [
    {
     "data": {
      "text/html": [
       "<div>\n",
       "<style scoped>\n",
       "    .dataframe tbody tr th:only-of-type {\n",
       "        vertical-align: middle;\n",
       "    }\n",
       "\n",
       "    .dataframe tbody tr th {\n",
       "        vertical-align: top;\n",
       "    }\n",
       "\n",
       "    .dataframe thead th {\n",
       "        text-align: right;\n",
       "    }\n",
       "</style>\n",
       "<table border=\"1\" class=\"dataframe\">\n",
       "  <thead>\n",
       "    <tr style=\"text-align: right;\">\n",
       "      <th></th>\n",
       "      <th>hsa-let-7a-1</th>\n",
       "      <th>hsa-let-7a-2</th>\n",
       "      <th>hsa-let-7a-3</th>\n",
       "      <th>hsa-let-7b</th>\n",
       "      <th>hsa-let-7c</th>\n",
       "      <th>hsa-let-7d</th>\n",
       "      <th>hsa-let-7e</th>\n",
       "      <th>hsa-let-7f-1</th>\n",
       "      <th>hsa-let-7f-2</th>\n",
       "      <th>hsa-let-7g</th>\n",
       "      <th>...</th>\n",
       "      <th>hsa-mir-9500</th>\n",
       "      <th>hsa-mir-96</th>\n",
       "      <th>hsa-mir-98</th>\n",
       "      <th>hsa-mir-99a</th>\n",
       "      <th>hsa-mir-99b</th>\n",
       "      <th>gender</th>\n",
       "      <th>age_at_diagnosis</th>\n",
       "      <th>primary_diagnosis</th>\n",
       "      <th>tumor_grade</th>\n",
       "      <th>tumor_stage</th>\n",
       "    </tr>\n",
       "  </thead>\n",
       "  <tbody>\n",
       "    <tr>\n",
       "      <th>2</th>\n",
       "      <td>13.768529</td>\n",
       "      <td>13.698553</td>\n",
       "      <td>13.715105</td>\n",
       "      <td>11.769493</td>\n",
       "      <td>10.766500</td>\n",
       "      <td>12.179938</td>\n",
       "      <td>10.345813</td>\n",
       "      <td>14.455957</td>\n",
       "      <td>14.589400</td>\n",
       "      <td>15.326121</td>\n",
       "      <td>...</td>\n",
       "      <td>0.0</td>\n",
       "      <td>8.267236</td>\n",
       "      <td>12.781438</td>\n",
       "      <td>10.912778</td>\n",
       "      <td>11.535000</td>\n",
       "      <td>female</td>\n",
       "      <td>27702.0</td>\n",
       "      <td>Endometrioid adenocarcinoma, NOS</td>\n",
       "      <td>G3</td>\n",
       "      <td>I</td>\n",
       "    </tr>\n",
       "    <tr>\n",
       "      <th>3</th>\n",
       "      <td>14.756170</td>\n",
       "      <td>14.715036</td>\n",
       "      <td>14.715615</td>\n",
       "      <td>13.243572</td>\n",
       "      <td>11.120588</td>\n",
       "      <td>11.935819</td>\n",
       "      <td>10.090452</td>\n",
       "      <td>14.470656</td>\n",
       "      <td>14.542343</td>\n",
       "      <td>14.934333</td>\n",
       "      <td>...</td>\n",
       "      <td>0.0</td>\n",
       "      <td>6.245282</td>\n",
       "      <td>10.274397</td>\n",
       "      <td>11.881488</td>\n",
       "      <td>11.635385</td>\n",
       "      <td>male</td>\n",
       "      <td>24361.0</td>\n",
       "      <td>Adenocarcinoma, NOS</td>\n",
       "      <td>G2</td>\n",
       "      <td>I</td>\n",
       "    </tr>\n",
       "    <tr>\n",
       "      <th>5</th>\n",
       "      <td>14.529227</td>\n",
       "      <td>14.467596</td>\n",
       "      <td>14.471634</td>\n",
       "      <td>12.774132</td>\n",
       "      <td>11.630387</td>\n",
       "      <td>11.505091</td>\n",
       "      <td>10.898986</td>\n",
       "      <td>14.278095</td>\n",
       "      <td>14.409765</td>\n",
       "      <td>14.426733</td>\n",
       "      <td>...</td>\n",
       "      <td>0.0</td>\n",
       "      <td>5.855438</td>\n",
       "      <td>10.635816</td>\n",
       "      <td>11.999221</td>\n",
       "      <td>11.544629</td>\n",
       "      <td>male</td>\n",
       "      <td>23121.0</td>\n",
       "      <td>Infiltrating duct carcinoma, NOS</td>\n",
       "      <td>G3</td>\n",
       "      <td>II</td>\n",
       "    </tr>\n",
       "    <tr>\n",
       "      <th>6</th>\n",
       "      <td>14.696915</td>\n",
       "      <td>14.662610</td>\n",
       "      <td>14.660756</td>\n",
       "      <td>13.276807</td>\n",
       "      <td>11.257925</td>\n",
       "      <td>11.533866</td>\n",
       "      <td>10.534919</td>\n",
       "      <td>14.376763</td>\n",
       "      <td>14.462505</td>\n",
       "      <td>14.505764</td>\n",
       "      <td>...</td>\n",
       "      <td>0.0</td>\n",
       "      <td>6.259199</td>\n",
       "      <td>10.505806</td>\n",
       "      <td>11.428427</td>\n",
       "      <td>11.058805</td>\n",
       "      <td>male</td>\n",
       "      <td>26445.0</td>\n",
       "      <td>Squamous cell carcinoma, NOS</td>\n",
       "      <td>G2</td>\n",
       "      <td>III</td>\n",
       "    </tr>\n",
       "    <tr>\n",
       "      <th>7</th>\n",
       "      <td>14.389828</td>\n",
       "      <td>14.369630</td>\n",
       "      <td>14.371670</td>\n",
       "      <td>12.592117</td>\n",
       "      <td>10.981248</td>\n",
       "      <td>11.860303</td>\n",
       "      <td>10.773036</td>\n",
       "      <td>14.548259</td>\n",
       "      <td>14.622548</td>\n",
       "      <td>14.647027</td>\n",
       "      <td>...</td>\n",
       "      <td>0.0</td>\n",
       "      <td>4.041618</td>\n",
       "      <td>10.590901</td>\n",
       "      <td>12.081467</td>\n",
       "      <td>12.133911</td>\n",
       "      <td>male</td>\n",
       "      <td>21263.0</td>\n",
       "      <td>Renal cell carcinoma, NOS</td>\n",
       "      <td>G2</td>\n",
       "      <td>IV</td>\n",
       "    </tr>\n",
       "  </tbody>\n",
       "</table>\n",
       "<p>5 rows × 1681 columns</p>\n",
       "</div>"
      ],
      "text/plain": [
       "   hsa-let-7a-1  hsa-let-7a-2  hsa-let-7a-3  hsa-let-7b  hsa-let-7c  \\\n",
       "2     13.768529     13.698553     13.715105   11.769493   10.766500   \n",
       "3     14.756170     14.715036     14.715615   13.243572   11.120588   \n",
       "5     14.529227     14.467596     14.471634   12.774132   11.630387   \n",
       "6     14.696915     14.662610     14.660756   13.276807   11.257925   \n",
       "7     14.389828     14.369630     14.371670   12.592117   10.981248   \n",
       "\n",
       "   hsa-let-7d  hsa-let-7e  hsa-let-7f-1  hsa-let-7f-2  hsa-let-7g  ...  \\\n",
       "2   12.179938   10.345813     14.455957     14.589400   15.326121  ...   \n",
       "3   11.935819   10.090452     14.470656     14.542343   14.934333  ...   \n",
       "5   11.505091   10.898986     14.278095     14.409765   14.426733  ...   \n",
       "6   11.533866   10.534919     14.376763     14.462505   14.505764  ...   \n",
       "7   11.860303   10.773036     14.548259     14.622548   14.647027  ...   \n",
       "\n",
       "   hsa-mir-9500  hsa-mir-96  hsa-mir-98  hsa-mir-99a  hsa-mir-99b  gender  \\\n",
       "2           0.0    8.267236   12.781438    10.912778    11.535000  female   \n",
       "3           0.0    6.245282   10.274397    11.881488    11.635385    male   \n",
       "5           0.0    5.855438   10.635816    11.999221    11.544629    male   \n",
       "6           0.0    6.259199   10.505806    11.428427    11.058805    male   \n",
       "7           0.0    4.041618   10.590901    12.081467    12.133911    male   \n",
       "\n",
       "   age_at_diagnosis                 primary_diagnosis  tumor_grade  \\\n",
       "2           27702.0  Endometrioid adenocarcinoma, NOS           G3   \n",
       "3           24361.0               Adenocarcinoma, NOS           G2   \n",
       "5           23121.0  Infiltrating duct carcinoma, NOS           G3   \n",
       "6           26445.0      Squamous cell carcinoma, NOS           G2   \n",
       "7           21263.0         Renal cell carcinoma, NOS           G2   \n",
       "\n",
       "   tumor_stage  \n",
       "2            I  \n",
       "3            I  \n",
       "5           II  \n",
       "6          III  \n",
       "7           IV  \n",
       "\n",
       "[5 rows x 1681 columns]"
      ]
     },
     "execution_count": 86,
     "metadata": {},
     "output_type": "execute_result"
    }
   ],
   "source": [
    "data_miRNA_5 = data_miRNA_5[data_miRNA_5.primary_diagnosis !='Glioblastoma']\n",
    "data_miRNA_5.head()"
   ]
  },
  {
   "cell_type": "markdown",
   "metadata": {},
   "source": []
  },
  {
   "cell_type": "code",
   "execution_count": 87,
   "metadata": {},
   "outputs": [
    {
     "data": {
      "text/plain": [
       "(745, 1680)"
      ]
     },
     "execution_count": 87,
     "metadata": {},
     "output_type": "execute_result"
    }
   ],
   "source": [
    "# Identification of features and target variables\n",
    "df = data_miRNA_5.drop(columns = ['tumor_grade'])\n",
    "df.shape"
   ]
  },
  {
   "cell_type": "code",
   "execution_count": 88,
   "metadata": {},
   "outputs": [
    {
     "data": {
      "text/plain": [
       "Index(['hsa-let-7a-1', 'hsa-let-7a-2', 'hsa-let-7a-3', 'hsa-let-7b',\n",
       "       'hsa-let-7c', 'hsa-let-7d', 'hsa-let-7e', 'hsa-let-7f-1',\n",
       "       'hsa-let-7f-2', 'hsa-let-7g',\n",
       "       ...\n",
       "       'hsa-mir-95', 'hsa-mir-9500', 'hsa-mir-96', 'hsa-mir-98', 'hsa-mir-99a',\n",
       "       'hsa-mir-99b', 'gender', 'age_at_diagnosis', 'primary_diagnosis',\n",
       "       'tumor_stage'],\n",
       "      dtype='object', length=1680)"
      ]
     },
     "execution_count": 88,
     "metadata": {},
     "output_type": "execute_result"
    }
   ],
   "source": [
    "df.columns"
   ]
  },
  {
   "cell_type": "code",
   "execution_count": 89,
   "metadata": {},
   "outputs": [
    {
     "data": {
      "text/plain": [
       "hsa-let-7a-1        float64\n",
       "hsa-let-7a-2        float64\n",
       "hsa-let-7a-3        float64\n",
       "hsa-let-7b          float64\n",
       "hsa-let-7c          float64\n",
       "                     ...   \n",
       "hsa-mir-96          float64\n",
       "hsa-mir-98          float64\n",
       "hsa-mir-99a         float64\n",
       "hsa-mir-99b         float64\n",
       "age_at_diagnosis    float64\n",
       "Length: 1677, dtype: object"
      ]
     },
     "execution_count": 89,
     "metadata": {},
     "output_type": "execute_result"
    }
   ],
   "source": [
    "#Numeric columns of features\n",
    "numeric_columns2 = [col for col in df.columns if df[col].dtypes == 'float']\n",
    "df_2= df[numeric_columns2]\n",
    "df_2.dtypes"
   ]
  },
  {
   "cell_type": "code",
   "execution_count": 90,
   "metadata": {},
   "outputs": [
    {
     "data": {
      "text/plain": [
       "(745, 1677)"
      ]
     },
     "execution_count": 90,
     "metadata": {},
     "output_type": "execute_result"
    }
   ],
   "source": [
    "df_2.shape"
   ]
  },
  {
   "cell_type": "code",
   "execution_count": 91,
   "metadata": {},
   "outputs": [
    {
     "data": {
      "text/plain": [
       "array([[1.17694930e+01, 1.07664997e+01, 1.03458133e+01, ...,\n",
       "        1.09127782e+01, 1.15350004e+01, 2.77020000e+04],\n",
       "       [1.32435718e+01, 1.11205875e+01, 1.00904525e+01, ...,\n",
       "        1.18814884e+01, 1.16353849e+01, 2.43610000e+04],\n",
       "       [1.27741324e+01, 1.16303869e+01, 1.08989861e+01, ...,\n",
       "        1.19992215e+01, 1.15446293e+01, 2.31210000e+04],\n",
       "       ...,\n",
       "       [1.16671191e+01, 9.24503226e+00, 1.01845571e+01, ...,\n",
       "        9.47213675e+00, 1.17733427e+01, 2.29340000e+04],\n",
       "       [1.19425548e+01, 1.04242665e+01, 1.07315632e+01, ...,\n",
       "        1.11472149e+01, 1.17107460e+01, 1.37310000e+04],\n",
       "       [1.23568303e+01, 1.12449571e+01, 1.04043725e+01, ...,\n",
       "        1.15424583e+01, 1.12288809e+01, 1.77600000e+04]])"
      ]
     },
     "execution_count": 91,
     "metadata": {},
     "output_type": "execute_result"
    }
   ],
   "source": [
    "#Feature Selection #1,  VarianceThreshold \n",
    "from sklearn.feature_selection import VarianceThreshold\n",
    "\n",
    "# Creation of an instance of VarianceThreshold class with threshold=0.5\n",
    "\n",
    "fet_sel = VarianceThreshold(threshold=0.5)\n",
    "\n",
    "# Fiteamos a fet_sel con nuestro df2:\n",
    "\n",
    "fet_sel.fit_transform(df_2)\n"
   ]
  },
  {
   "cell_type": "code",
   "execution_count": 92,
   "metadata": {},
   "outputs": [
    {
     "data": {
      "text/plain": [
       "Index(['hsa-let-7b', 'hsa-let-7c', 'hsa-let-7e', 'hsa-mir-1-1', 'hsa-mir-1-2',\n",
       "       'hsa-mir-100', 'hsa-mir-101-1', 'hsa-mir-101-2', 'hsa-mir-105-1',\n",
       "       'hsa-mir-105-2',\n",
       "       ...\n",
       "       'hsa-mir-939', 'hsa-mir-940', 'hsa-mir-942', 'hsa-mir-943',\n",
       "       'hsa-mir-944', 'hsa-mir-95', 'hsa-mir-96', 'hsa-mir-99a', 'hsa-mir-99b',\n",
       "       'age_at_diagnosis'],\n",
       "      dtype='object', length=1193)"
      ]
     },
     "execution_count": 92,
     "metadata": {},
     "output_type": "execute_result"
    }
   ],
   "source": [
    "#Columns shape decreased to 1194\n",
    "df_2.columns[fet_sel.get_support()]"
   ]
  },
  {
   "cell_type": "code",
   "execution_count": 93,
   "metadata": {},
   "outputs": [],
   "source": [
    "from sklearn.preprocessing import MinMaxScaler"
   ]
  },
  {
   "cell_type": "code",
   "execution_count": 94,
   "metadata": {},
   "outputs": [],
   "source": [
    "# a data frame was created from the VarianceThreshold output\n",
    "\n",
    "df_3 = pd.DataFrame(fet_sel.transform(df_2), columns = df_2.columns[fet_sel.get_support()])\n",
    "#In order to avoid negative values, df_3 was normalized\n",
    "\n",
    "df_3_normalized = (df_3 - df_3.min()) / ( df_3.max() - df_3.min())"
   ]
  },
  {
   "cell_type": "code",
   "execution_count": 95,
   "metadata": {},
   "outputs": [],
   "source": [
    "df_3_normalized= df_3_normalized.reset_index()"
   ]
  },
  {
   "cell_type": "code",
   "execution_count": 96,
   "metadata": {},
   "outputs": [
    {
     "data": {
      "text/plain": [
       "False"
      ]
     },
     "execution_count": 96,
     "metadata": {},
     "output_type": "execute_result"
    }
   ],
   "source": [
    "#There were no nulls\n",
    "df_3_normalized.isnull().sum().any()"
   ]
  },
  {
   "cell_type": "code",
   "execution_count": 97,
   "metadata": {},
   "outputs": [
    {
     "data": {
      "text/plain": [
       "(745, 1194)"
      ]
     },
     "execution_count": 97,
     "metadata": {},
     "output_type": "execute_result"
    }
   ],
   "source": [
    "df_3_normalized.shape"
   ]
  },
  {
   "cell_type": "code",
   "execution_count": 98,
   "metadata": {},
   "outputs": [
    {
     "data": {
      "text/plain": [
       "['gender', 'primary_diagnosis', 'tumor_stage']"
      ]
     },
     "execution_count": 98,
     "metadata": {},
     "output_type": "execute_result"
    }
   ],
   "source": [
    "# 'object' type columns\n",
    "categorical_columns= [col for col in df.columns if df[col].dtypes == 'object']\n",
    "categorical_columns"
   ]
  },
  {
   "cell_type": "code",
   "execution_count": 99,
   "metadata": {},
   "outputs": [
    {
     "data": {
      "text/plain": [
       "(745, 4)"
      ]
     },
     "execution_count": 99,
     "metadata": {},
     "output_type": "execute_result"
    }
   ],
   "source": [
    "df_4 = df[categorical_columns]\n",
    "df_4= df_4.reset_index()\n",
    "df_4.shape"
   ]
  },
  {
   "cell_type": "code",
   "execution_count": 100,
   "metadata": {},
   "outputs": [
    {
     "data": {
      "text/plain": [
       "(745, 1196)"
      ]
     },
     "execution_count": 100,
     "metadata": {},
     "output_type": "execute_result"
    }
   ],
   "source": [
    "#A new data frame was created as a result of a concatenation from df_3_normalized and df_4\n",
    "df_5 = pd.concat([df_3_normalized,df_4], axis = 1)\n",
    "df_5 = df_5.drop(columns = 'index')\n",
    "df_5.shape"
   ]
  },
  {
   "cell_type": "code",
   "execution_count": 101,
   "metadata": {},
   "outputs": [],
   "source": [
    "# target column was codified with LabelEncoder\n",
    "from sklearn.preprocessing import LabelEncoder\n",
    "\n",
    "enc = LabelEncoder()\n",
    "data_miRNA_5['tumor_grade'] = enc.fit_transform(data_miRNA_5['tumor_grade'])"
   ]
  },
  {
   "cell_type": "code",
   "execution_count": 102,
   "metadata": {},
   "outputs": [
    {
     "data": {
      "text/plain": [
       "1    422\n",
       "2    233\n",
       "0     76\n",
       "3     14\n",
       "Name: tumor_grade, dtype: int64"
      ]
     },
     "execution_count": 102,
     "metadata": {},
     "output_type": "execute_result"
    }
   ],
   "source": [
    "# target labels distribution\n",
    "data_miRNA_5['tumor_grade'].value_counts()"
   ]
  },
  {
   "cell_type": "code",
   "execution_count": 103,
   "metadata": {},
   "outputs": [
    {
     "data": {
      "text/plain": [
       "(558, 1196)"
      ]
     },
     "metadata": {},
     "output_type": "display_data"
    },
    {
     "data": {
      "text/plain": [
       "(187, 1196)"
      ]
     },
     "metadata": {},
     "output_type": "display_data"
    },
    {
     "data": {
      "text/plain": [
       "(558,)"
      ]
     },
     "metadata": {},
     "output_type": "display_data"
    },
    {
     "data": {
      "text/plain": [
       "(187,)"
      ]
     },
     "metadata": {},
     "output_type": "display_data"
    }
   ],
   "source": [
    "from sklearn.model_selection import train_test_split,  GridSearchCV\n",
    "from sklearn.naive_bayes import GaussianNB\n",
    "\n",
    "# resultant features and target\n",
    "X= df_5\n",
    "y=data_miRNA_5['tumor_grade']\n",
    "\n",
    "# Train test split: \n",
    "X_train, X_test, y_train, y_test=train_test_split(X,y, stratify=y, random_state = 12)\n",
    "display(X_train.shape, X_test.shape, y_train.shape, y_test.shape)"
   ]
  },
  {
   "cell_type": "code",
   "execution_count": 104,
   "metadata": {},
   "outputs": [
    {
     "data": {
      "text/plain": [
       "(1264, 1196)"
      ]
     },
     "metadata": {},
     "output_type": "display_data"
    },
    {
     "data": {
      "text/plain": [
       "(1264,)"
      ]
     },
     "metadata": {},
     "output_type": "display_data"
    }
   ],
   "source": [
    "#SMOTENC application for imbalanced classes\n",
    "from imblearn.over_sampling import SMOTENC\n",
    "sm= SMOTENC(categorical_features=(X_train.dtypes=='object').values, k_neighbors=3, random_state=0)\n",
    "X_train_sm, y_train_sm= sm.fit_resample(X_train, y_train)\n",
    "display(X_train_sm.shape, y_train_sm.shape)"
   ]
  },
  {
   "cell_type": "code",
   "execution_count": 105,
   "metadata": {},
   "outputs": [
    {
     "name": "stderr",
     "output_type": "stream",
     "text": [
      "C:\\Users\\matia\\anaconda3\\envs\\dhdsblend\\lib\\site-packages\\ipykernel_launcher.py:5: SettingWithCopyWarning: \n",
      "A value is trying to be set on a copy of a slice from a DataFrame.\n",
      "Try using .loc[row_indexer,col_indexer] = value instead\n",
      "\n",
      "See the caveats in the documentation: https://pandas.pydata.org/pandas-docs/stable/user_guide/indexing.html#returning-a-view-versus-a-copy\n",
      "  \"\"\"\n"
     ]
    }
   ],
   "source": [
    "# In order to transform train and test sets with  OneHOtencoding a new data column 'training' was created in both data set.\n",
    "# This column value was assignated as 1 in train set and as 0 in test set.\n",
    "\n",
    "X_train_sm['training'] = 1\n",
    "X_test['training'] = 0\n",
    "\n",
    "# A new data frame 'X_all' was created in order to join both data sets\n",
    "X_all = pd.concat([X_train_sm, X_test])"
   ]
  },
  {
   "cell_type": "code",
   "execution_count": 106,
   "metadata": {},
   "outputs": [
    {
     "data": {
      "text/plain": [
       "0      1.0\n",
       "1      1.0\n",
       "2      1.0\n",
       "3      1.0\n",
       "4      1.0\n",
       "      ... \n",
       "530    0.0\n",
       "405    0.0\n",
       "738    0.0\n",
       "166    0.0\n",
       "294    0.0\n",
       "Name: training, Length: 1451, dtype: float64"
      ]
     },
     "execution_count": 106,
     "metadata": {},
     "output_type": "execute_result"
    }
   ],
   "source": [
    "X_all.training.astype(float)"
   ]
  },
  {
   "cell_type": "code",
   "execution_count": 107,
   "metadata": {},
   "outputs": [
    {
     "data": {
      "text/html": [
       "<div>\n",
       "<style scoped>\n",
       "    .dataframe tbody tr th:only-of-type {\n",
       "        vertical-align: middle;\n",
       "    }\n",
       "\n",
       "    .dataframe tbody tr th {\n",
       "        vertical-align: top;\n",
       "    }\n",
       "\n",
       "    .dataframe thead th {\n",
       "        text-align: right;\n",
       "    }\n",
       "</style>\n",
       "<table border=\"1\" class=\"dataframe\">\n",
       "  <thead>\n",
       "    <tr style=\"text-align: right;\">\n",
       "      <th></th>\n",
       "      <th>hsa-let-7b</th>\n",
       "      <th>hsa-let-7c</th>\n",
       "      <th>hsa-let-7e</th>\n",
       "      <th>hsa-mir-1-1</th>\n",
       "      <th>hsa-mir-1-2</th>\n",
       "      <th>hsa-mir-100</th>\n",
       "      <th>hsa-mir-101-1</th>\n",
       "      <th>hsa-mir-101-2</th>\n",
       "      <th>hsa-mir-105-1</th>\n",
       "      <th>hsa-mir-105-2</th>\n",
       "      <th>...</th>\n",
       "      <th>hsa-mir-944</th>\n",
       "      <th>hsa-mir-95</th>\n",
       "      <th>hsa-mir-96</th>\n",
       "      <th>hsa-mir-99a</th>\n",
       "      <th>hsa-mir-99b</th>\n",
       "      <th>age_at_diagnosis</th>\n",
       "      <th>gender</th>\n",
       "      <th>primary_diagnosis</th>\n",
       "      <th>tumor_stage</th>\n",
       "      <th>training</th>\n",
       "    </tr>\n",
       "  </thead>\n",
       "  <tbody>\n",
       "    <tr>\n",
       "      <th>0</th>\n",
       "      <td>0.436938</td>\n",
       "      <td>0.691261</td>\n",
       "      <td>0.565677</td>\n",
       "      <td>0.669085</td>\n",
       "      <td>0.637280</td>\n",
       "      <td>0.590152</td>\n",
       "      <td>0.240622</td>\n",
       "      <td>0.238527</td>\n",
       "      <td>0.637309</td>\n",
       "      <td>0.623438</td>\n",
       "      <td>...</td>\n",
       "      <td>0.823994</td>\n",
       "      <td>0.594546</td>\n",
       "      <td>0.510229</td>\n",
       "      <td>0.754109</td>\n",
       "      <td>0.466123</td>\n",
       "      <td>0.672176</td>\n",
       "      <td>male</td>\n",
       "      <td>Squamous cell carcinoma, NOS</td>\n",
       "      <td>IV</td>\n",
       "      <td>1</td>\n",
       "    </tr>\n",
       "    <tr>\n",
       "      <th>1</th>\n",
       "      <td>0.369579</td>\n",
       "      <td>0.592810</td>\n",
       "      <td>0.544129</td>\n",
       "      <td>0.553192</td>\n",
       "      <td>0.511240</td>\n",
       "      <td>0.745147</td>\n",
       "      <td>0.530027</td>\n",
       "      <td>0.529701</td>\n",
       "      <td>0.353796</td>\n",
       "      <td>0.170219</td>\n",
       "      <td>...</td>\n",
       "      <td>0.305499</td>\n",
       "      <td>0.432409</td>\n",
       "      <td>0.309208</td>\n",
       "      <td>0.790394</td>\n",
       "      <td>0.669058</td>\n",
       "      <td>0.442539</td>\n",
       "      <td>male</td>\n",
       "      <td>Renal cell carcinoma, NOS</td>\n",
       "      <td>I</td>\n",
       "      <td>1</td>\n",
       "    </tr>\n",
       "    <tr>\n",
       "      <th>2</th>\n",
       "      <td>0.105584</td>\n",
       "      <td>0.137104</td>\n",
       "      <td>0.459441</td>\n",
       "      <td>0.131921</td>\n",
       "      <td>0.031891</td>\n",
       "      <td>0.077002</td>\n",
       "      <td>0.339595</td>\n",
       "      <td>0.331745</td>\n",
       "      <td>0.843017</td>\n",
       "      <td>0.825434</td>\n",
       "      <td>...</td>\n",
       "      <td>0.940465</td>\n",
       "      <td>0.439917</td>\n",
       "      <td>0.796194</td>\n",
       "      <td>0.425690</td>\n",
       "      <td>0.602104</td>\n",
       "      <td>0.766251</td>\n",
       "      <td>male</td>\n",
       "      <td>Squamous cell carcinoma, NOS</td>\n",
       "      <td>III</td>\n",
       "      <td>1</td>\n",
       "    </tr>\n",
       "    <tr>\n",
       "      <th>3</th>\n",
       "      <td>0.512069</td>\n",
       "      <td>0.673716</td>\n",
       "      <td>0.682113</td>\n",
       "      <td>0.361605</td>\n",
       "      <td>0.305123</td>\n",
       "      <td>0.567631</td>\n",
       "      <td>0.347084</td>\n",
       "      <td>0.350853</td>\n",
       "      <td>0.353796</td>\n",
       "      <td>0.330954</td>\n",
       "      <td>...</td>\n",
       "      <td>0.305499</td>\n",
       "      <td>0.377261</td>\n",
       "      <td>0.570454</td>\n",
       "      <td>0.687309</td>\n",
       "      <td>0.569124</td>\n",
       "      <td>0.510793</td>\n",
       "      <td>male</td>\n",
       "      <td>Renal cell carcinoma, NOS</td>\n",
       "      <td>I</td>\n",
       "      <td>1</td>\n",
       "    </tr>\n",
       "    <tr>\n",
       "      <th>4</th>\n",
       "      <td>0.641957</td>\n",
       "      <td>0.721165</td>\n",
       "      <td>0.780183</td>\n",
       "      <td>0.470130</td>\n",
       "      <td>0.419460</td>\n",
       "      <td>0.778579</td>\n",
       "      <td>0.341256</td>\n",
       "      <td>0.345647</td>\n",
       "      <td>0.130598</td>\n",
       "      <td>0.101835</td>\n",
       "      <td>...</td>\n",
       "      <td>0.360610</td>\n",
       "      <td>0.368157</td>\n",
       "      <td>0.507597</td>\n",
       "      <td>0.648726</td>\n",
       "      <td>0.516866</td>\n",
       "      <td>0.588463</td>\n",
       "      <td>male</td>\n",
       "      <td>Adenocarcinoma, NOS</td>\n",
       "      <td>I</td>\n",
       "      <td>1</td>\n",
       "    </tr>\n",
       "  </tbody>\n",
       "</table>\n",
       "<p>5 rows × 1197 columns</p>\n",
       "</div>"
      ],
      "text/plain": [
       "   hsa-let-7b  hsa-let-7c  hsa-let-7e  hsa-mir-1-1  hsa-mir-1-2  hsa-mir-100  \\\n",
       "0    0.436938    0.691261    0.565677     0.669085     0.637280     0.590152   \n",
       "1    0.369579    0.592810    0.544129     0.553192     0.511240     0.745147   \n",
       "2    0.105584    0.137104    0.459441     0.131921     0.031891     0.077002   \n",
       "3    0.512069    0.673716    0.682113     0.361605     0.305123     0.567631   \n",
       "4    0.641957    0.721165    0.780183     0.470130     0.419460     0.778579   \n",
       "\n",
       "   hsa-mir-101-1  hsa-mir-101-2  hsa-mir-105-1  hsa-mir-105-2  ...  \\\n",
       "0       0.240622       0.238527       0.637309       0.623438  ...   \n",
       "1       0.530027       0.529701       0.353796       0.170219  ...   \n",
       "2       0.339595       0.331745       0.843017       0.825434  ...   \n",
       "3       0.347084       0.350853       0.353796       0.330954  ...   \n",
       "4       0.341256       0.345647       0.130598       0.101835  ...   \n",
       "\n",
       "   hsa-mir-944  hsa-mir-95  hsa-mir-96  hsa-mir-99a  hsa-mir-99b  \\\n",
       "0     0.823994    0.594546    0.510229     0.754109     0.466123   \n",
       "1     0.305499    0.432409    0.309208     0.790394     0.669058   \n",
       "2     0.940465    0.439917    0.796194     0.425690     0.602104   \n",
       "3     0.305499    0.377261    0.570454     0.687309     0.569124   \n",
       "4     0.360610    0.368157    0.507597     0.648726     0.516866   \n",
       "\n",
       "   age_at_diagnosis  gender             primary_diagnosis  tumor_stage  \\\n",
       "0          0.672176    male  Squamous cell carcinoma, NOS           IV   \n",
       "1          0.442539    male     Renal cell carcinoma, NOS            I   \n",
       "2          0.766251    male  Squamous cell carcinoma, NOS          III   \n",
       "3          0.510793    male     Renal cell carcinoma, NOS            I   \n",
       "4          0.588463    male           Adenocarcinoma, NOS            I   \n",
       "\n",
       "   training  \n",
       "0         1  \n",
       "1         1  \n",
       "2         1  \n",
       "3         1  \n",
       "4         1  \n",
       "\n",
       "[5 rows x 1197 columns]"
      ]
     },
     "execution_count": 107,
     "metadata": {},
     "output_type": "execute_result"
    }
   ],
   "source": [
    "X_all.head()"
   ]
  },
  {
   "cell_type": "code",
   "execution_count": 108,
   "metadata": {},
   "outputs": [],
   "source": [
    "from sklearn.preprocessing import OneHotEncoder"
   ]
  },
  {
   "cell_type": "code",
   "execution_count": 109,
   "metadata": {},
   "outputs": [
    {
     "data": {
      "text/plain": [
       "array([[1., 0., 0., ..., 0., 1., 0.],\n",
       "       [1., 0., 0., ..., 0., 0., 0.],\n",
       "       [1., 0., 0., ..., 1., 0., 0.],\n",
       "       ...,\n",
       "       [1., 0., 0., ..., 0., 1., 0.],\n",
       "       [0., 1., 0., ..., 0., 0., 0.],\n",
       "       [1., 0., 0., ..., 0., 1., 0.]])"
      ]
     },
     "execution_count": 109,
     "metadata": {},
     "output_type": "execute_result"
    }
   ],
   "source": [
    "# OneHotEncoder (OHE) was used to encode categorical features as a one-hot numeric array.\n",
    "encoder = OneHotEncoder(drop = 'first', sparse = False)\n",
    "encoder.fit_transform(X_all[categorical_columns])\n"
   ]
  },
  {
   "cell_type": "code",
   "execution_count": 110,
   "metadata": {},
   "outputs": [],
   "source": [
    "#A data frame was created  with the numeric array resultant from OHE\n",
    "df_6= pd.DataFrame(encoder.fit_transform(X_all[categorical_columns]), columns = encoder.get_feature_names())\n"
   ]
  },
  {
   "cell_type": "code",
   "execution_count": 111,
   "metadata": {},
   "outputs": [],
   "source": [
    "#Numeric and categorical features were joined again\n",
    "numeric_columns3 = [col for col in X_all.columns if X_all[col].dtypes == 'float' ]\n",
    "df_7 = pd.concat([X_all[numeric_columns3].reset_index(), df_6.reset_index(), X_all['training'].reset_index()], axis =1)"
   ]
  },
  {
   "cell_type": "code",
   "execution_count": 112,
   "metadata": {},
   "outputs": [
    {
     "data": {
      "text/html": [
       "<div>\n",
       "<style scoped>\n",
       "    .dataframe tbody tr th:only-of-type {\n",
       "        vertical-align: middle;\n",
       "    }\n",
       "\n",
       "    .dataframe tbody tr th {\n",
       "        vertical-align: top;\n",
       "    }\n",
       "\n",
       "    .dataframe thead th {\n",
       "        text-align: right;\n",
       "    }\n",
       "</style>\n",
       "<table border=\"1\" class=\"dataframe\">\n",
       "  <thead>\n",
       "    <tr style=\"text-align: right;\">\n",
       "      <th></th>\n",
       "      <th>hsa-let-7b</th>\n",
       "      <th>hsa-let-7c</th>\n",
       "      <th>hsa-let-7e</th>\n",
       "      <th>hsa-mir-1-1</th>\n",
       "      <th>hsa-mir-1-2</th>\n",
       "      <th>hsa-mir-100</th>\n",
       "      <th>hsa-mir-101-1</th>\n",
       "      <th>hsa-mir-101-2</th>\n",
       "      <th>hsa-mir-105-1</th>\n",
       "      <th>hsa-mir-105-2</th>\n",
       "      <th>...</th>\n",
       "      <th>x0_male</th>\n",
       "      <th>x1_Endometrioid adenocarcinoma, NOS</th>\n",
       "      <th>x1_Infiltrating duct carcinoma, NOS</th>\n",
       "      <th>x1_Renal cell carcinoma, NOS</th>\n",
       "      <th>x1_Squamous cell carcinoma, NOS</th>\n",
       "      <th>x2_II</th>\n",
       "      <th>x2_III</th>\n",
       "      <th>x2_IV</th>\n",
       "      <th>x2_NOT REPORTED</th>\n",
       "      <th>training</th>\n",
       "    </tr>\n",
       "  </thead>\n",
       "  <tbody>\n",
       "    <tr>\n",
       "      <th>0</th>\n",
       "      <td>0.436938</td>\n",
       "      <td>0.691261</td>\n",
       "      <td>0.565677</td>\n",
       "      <td>0.669085</td>\n",
       "      <td>0.637280</td>\n",
       "      <td>0.590152</td>\n",
       "      <td>0.240622</td>\n",
       "      <td>0.238527</td>\n",
       "      <td>0.637309</td>\n",
       "      <td>0.623438</td>\n",
       "      <td>...</td>\n",
       "      <td>1.0</td>\n",
       "      <td>0.0</td>\n",
       "      <td>0.0</td>\n",
       "      <td>0.0</td>\n",
       "      <td>1.0</td>\n",
       "      <td>0.0</td>\n",
       "      <td>0.0</td>\n",
       "      <td>1.0</td>\n",
       "      <td>0.0</td>\n",
       "      <td>1</td>\n",
       "    </tr>\n",
       "    <tr>\n",
       "      <th>1</th>\n",
       "      <td>0.369579</td>\n",
       "      <td>0.592810</td>\n",
       "      <td>0.544129</td>\n",
       "      <td>0.553192</td>\n",
       "      <td>0.511240</td>\n",
       "      <td>0.745147</td>\n",
       "      <td>0.530027</td>\n",
       "      <td>0.529701</td>\n",
       "      <td>0.353796</td>\n",
       "      <td>0.170219</td>\n",
       "      <td>...</td>\n",
       "      <td>1.0</td>\n",
       "      <td>0.0</td>\n",
       "      <td>0.0</td>\n",
       "      <td>1.0</td>\n",
       "      <td>0.0</td>\n",
       "      <td>0.0</td>\n",
       "      <td>0.0</td>\n",
       "      <td>0.0</td>\n",
       "      <td>0.0</td>\n",
       "      <td>1</td>\n",
       "    </tr>\n",
       "    <tr>\n",
       "      <th>2</th>\n",
       "      <td>0.105584</td>\n",
       "      <td>0.137104</td>\n",
       "      <td>0.459441</td>\n",
       "      <td>0.131921</td>\n",
       "      <td>0.031891</td>\n",
       "      <td>0.077002</td>\n",
       "      <td>0.339595</td>\n",
       "      <td>0.331745</td>\n",
       "      <td>0.843017</td>\n",
       "      <td>0.825434</td>\n",
       "      <td>...</td>\n",
       "      <td>1.0</td>\n",
       "      <td>0.0</td>\n",
       "      <td>0.0</td>\n",
       "      <td>0.0</td>\n",
       "      <td>1.0</td>\n",
       "      <td>0.0</td>\n",
       "      <td>1.0</td>\n",
       "      <td>0.0</td>\n",
       "      <td>0.0</td>\n",
       "      <td>1</td>\n",
       "    </tr>\n",
       "    <tr>\n",
       "      <th>3</th>\n",
       "      <td>0.512069</td>\n",
       "      <td>0.673716</td>\n",
       "      <td>0.682113</td>\n",
       "      <td>0.361605</td>\n",
       "      <td>0.305123</td>\n",
       "      <td>0.567631</td>\n",
       "      <td>0.347084</td>\n",
       "      <td>0.350853</td>\n",
       "      <td>0.353796</td>\n",
       "      <td>0.330954</td>\n",
       "      <td>...</td>\n",
       "      <td>1.0</td>\n",
       "      <td>0.0</td>\n",
       "      <td>0.0</td>\n",
       "      <td>1.0</td>\n",
       "      <td>0.0</td>\n",
       "      <td>0.0</td>\n",
       "      <td>0.0</td>\n",
       "      <td>0.0</td>\n",
       "      <td>0.0</td>\n",
       "      <td>1</td>\n",
       "    </tr>\n",
       "    <tr>\n",
       "      <th>4</th>\n",
       "      <td>0.641957</td>\n",
       "      <td>0.721165</td>\n",
       "      <td>0.780183</td>\n",
       "      <td>0.470130</td>\n",
       "      <td>0.419460</td>\n",
       "      <td>0.778579</td>\n",
       "      <td>0.341256</td>\n",
       "      <td>0.345647</td>\n",
       "      <td>0.130598</td>\n",
       "      <td>0.101835</td>\n",
       "      <td>...</td>\n",
       "      <td>1.0</td>\n",
       "      <td>0.0</td>\n",
       "      <td>0.0</td>\n",
       "      <td>0.0</td>\n",
       "      <td>0.0</td>\n",
       "      <td>0.0</td>\n",
       "      <td>0.0</td>\n",
       "      <td>0.0</td>\n",
       "      <td>0.0</td>\n",
       "      <td>1</td>\n",
       "    </tr>\n",
       "  </tbody>\n",
       "</table>\n",
       "<p>5 rows × 1203 columns</p>\n",
       "</div>"
      ],
      "text/plain": [
       "   hsa-let-7b  hsa-let-7c  hsa-let-7e  hsa-mir-1-1  hsa-mir-1-2  hsa-mir-100  \\\n",
       "0    0.436938    0.691261    0.565677     0.669085     0.637280     0.590152   \n",
       "1    0.369579    0.592810    0.544129     0.553192     0.511240     0.745147   \n",
       "2    0.105584    0.137104    0.459441     0.131921     0.031891     0.077002   \n",
       "3    0.512069    0.673716    0.682113     0.361605     0.305123     0.567631   \n",
       "4    0.641957    0.721165    0.780183     0.470130     0.419460     0.778579   \n",
       "\n",
       "   hsa-mir-101-1  hsa-mir-101-2  hsa-mir-105-1  hsa-mir-105-2  ...  x0_male  \\\n",
       "0       0.240622       0.238527       0.637309       0.623438  ...      1.0   \n",
       "1       0.530027       0.529701       0.353796       0.170219  ...      1.0   \n",
       "2       0.339595       0.331745       0.843017       0.825434  ...      1.0   \n",
       "3       0.347084       0.350853       0.353796       0.330954  ...      1.0   \n",
       "4       0.341256       0.345647       0.130598       0.101835  ...      1.0   \n",
       "\n",
       "   x1_Endometrioid adenocarcinoma, NOS  x1_Infiltrating duct carcinoma, NOS  \\\n",
       "0                                  0.0                                  0.0   \n",
       "1                                  0.0                                  0.0   \n",
       "2                                  0.0                                  0.0   \n",
       "3                                  0.0                                  0.0   \n",
       "4                                  0.0                                  0.0   \n",
       "\n",
       "   x1_Renal cell carcinoma, NOS  x1_Squamous cell carcinoma, NOS  x2_II  \\\n",
       "0                           0.0                              1.0    0.0   \n",
       "1                           1.0                              0.0    0.0   \n",
       "2                           0.0                              1.0    0.0   \n",
       "3                           1.0                              0.0    0.0   \n",
       "4                           0.0                              0.0    0.0   \n",
       "\n",
       "   x2_III  x2_IV  x2_NOT REPORTED  training  \n",
       "0     0.0    1.0              0.0         1  \n",
       "1     0.0    0.0              0.0         1  \n",
       "2     1.0    0.0              0.0         1  \n",
       "3     0.0    0.0              0.0         1  \n",
       "4     0.0    0.0              0.0         1  \n",
       "\n",
       "[5 rows x 1203 columns]"
      ]
     },
     "execution_count": 112,
     "metadata": {},
     "output_type": "execute_result"
    }
   ],
   "source": [
    "df_7= df_7.drop(columns = 'index')\n",
    "df_7.head()"
   ]
  },
  {
   "cell_type": "code",
   "execution_count": 113,
   "metadata": {},
   "outputs": [
    {
     "data": {
      "text/plain": [
       "(1264, 1203)"
      ]
     },
     "metadata": {},
     "output_type": "display_data"
    },
    {
     "data": {
      "text/plain": [
       "(187, 1203)"
      ]
     },
     "metadata": {},
     "output_type": "display_data"
    }
   ],
   "source": [
    "#Train test setswere split according to 'training' column value\n",
    "X_train_sm = df_7.loc[df_7.training==1, :]\n",
    "X_test = df_7.loc[df_7.training==0, :]\n",
    "display(X_train_sm.shape, X_test.shape)"
   ]
  },
  {
   "cell_type": "code",
   "execution_count": 114,
   "metadata": {},
   "outputs": [],
   "source": [
    "from sklearn.feature_selection import SelectKBest\n",
    "from sklearn.feature_selection import chi2"
   ]
  },
  {
   "cell_type": "code",
   "execution_count": 115,
   "metadata": {},
   "outputs": [],
   "source": [
    "#Features standarization\n",
    "scaler = MinMaxScaler()\n",
    "X_train_sc = scaler.fit_transform(X_train_sm)\n",
    "X_test_sc = scaler.transform(X_test)"
   ]
  },
  {
   "cell_type": "code",
   "execution_count": 116,
   "metadata": {},
   "outputs": [],
   "source": [
    "#Feature Selection # 2 = SelectPercentile\n",
    "from sklearn.feature_selection import SelectPercentile\n",
    "fs_m = SelectPercentile(score_func=chi2, percentile=23.5)\n",
    "fs_m.fit(X_train_sc, y_train_sm)\n",
    "X_train_reduced = fs_m.transform(X_train_sc)\n",
    "X_test_reduced = fs_m.transform(X_test_sc)"
   ]
  },
  {
   "cell_type": "code",
   "execution_count": 117,
   "metadata": {},
   "outputs": [
    {
     "data": {
      "text/html": [
       "<div>\n",
       "<style scoped>\n",
       "    .dataframe tbody tr th:only-of-type {\n",
       "        vertical-align: middle;\n",
       "    }\n",
       "\n",
       "    .dataframe tbody tr th {\n",
       "        vertical-align: top;\n",
       "    }\n",
       "\n",
       "    .dataframe thead th {\n",
       "        text-align: right;\n",
       "    }\n",
       "</style>\n",
       "<table border=\"1\" class=\"dataframe\">\n",
       "  <thead>\n",
       "    <tr style=\"text-align: right;\">\n",
       "      <th></th>\n",
       "      <th>F Score</th>\n",
       "      <th>P Value</th>\n",
       "      <th>Attribute</th>\n",
       "      <th>Support</th>\n",
       "    </tr>\n",
       "  </thead>\n",
       "  <tbody>\n",
       "    <tr>\n",
       "      <th>1200</th>\n",
       "      <td>471.549451</td>\n",
       "      <td>6.981675e-102</td>\n",
       "      <td>x2_IV</td>\n",
       "      <td>True</td>\n",
       "    </tr>\n",
       "    <tr>\n",
       "      <th>1196</th>\n",
       "      <td>376.312860</td>\n",
       "      <td>2.989268e-81</td>\n",
       "      <td>x1_Renal cell carcinoma, NOS</td>\n",
       "      <td>True</td>\n",
       "    </tr>\n",
       "    <tr>\n",
       "      <th>1194</th>\n",
       "      <td>255.321101</td>\n",
       "      <td>4.622766e-55</td>\n",
       "      <td>x1_Endometrioid adenocarcinoma, NOS</td>\n",
       "      <td>True</td>\n",
       "    </tr>\n",
       "    <tr>\n",
       "      <th>1198</th>\n",
       "      <td>131.780269</td>\n",
       "      <td>2.235642e-28</td>\n",
       "      <td>x2_II</td>\n",
       "      <td>True</td>\n",
       "    </tr>\n",
       "    <tr>\n",
       "      <th>1197</th>\n",
       "      <td>105.298851</td>\n",
       "      <td>1.126845e-22</td>\n",
       "      <td>x1_Squamous cell carcinoma, NOS</td>\n",
       "      <td>True</td>\n",
       "    </tr>\n",
       "    <tr>\n",
       "      <th>...</th>\n",
       "      <td>...</td>\n",
       "      <td>...</td>\n",
       "      <td>...</td>\n",
       "      <td>...</td>\n",
       "    </tr>\n",
       "    <tr>\n",
       "      <th>939</th>\n",
       "      <td>0.030064</td>\n",
       "      <td>9.986260e-01</td>\n",
       "      <td>hsa-mir-664b</td>\n",
       "      <td>False</td>\n",
       "    </tr>\n",
       "    <tr>\n",
       "      <th>36</th>\n",
       "      <td>0.027415</td>\n",
       "      <td>9.988026e-01</td>\n",
       "      <td>hsa-mir-1244-1</td>\n",
       "      <td>False</td>\n",
       "    </tr>\n",
       "    <tr>\n",
       "      <th>154</th>\n",
       "      <td>0.026906</td>\n",
       "      <td>9.988356e-01</td>\n",
       "      <td>hsa-mir-1911</td>\n",
       "      <td>False</td>\n",
       "    </tr>\n",
       "    <tr>\n",
       "      <th>670</th>\n",
       "      <td>0.004963</td>\n",
       "      <td>9.999071e-01</td>\n",
       "      <td>hsa-mir-4783</td>\n",
       "      <td>False</td>\n",
       "    </tr>\n",
       "    <tr>\n",
       "      <th>1202</th>\n",
       "      <td>NaN</td>\n",
       "      <td>NaN</td>\n",
       "      <td>training</td>\n",
       "      <td>False</td>\n",
       "    </tr>\n",
       "  </tbody>\n",
       "</table>\n",
       "<p>1203 rows × 4 columns</p>\n",
       "</div>"
      ],
      "text/plain": [
       "         F Score        P Value                            Attribute  Support\n",
       "1200  471.549451  6.981675e-102                                x2_IV     True\n",
       "1196  376.312860   2.989268e-81         x1_Renal cell carcinoma, NOS     True\n",
       "1194  255.321101   4.622766e-55  x1_Endometrioid adenocarcinoma, NOS     True\n",
       "1198  131.780269   2.235642e-28                                x2_II     True\n",
       "1197  105.298851   1.126845e-22      x1_Squamous cell carcinoma, NOS     True\n",
       "...          ...            ...                                  ...      ...\n",
       "939     0.030064   9.986260e-01                         hsa-mir-664b    False\n",
       "36      0.027415   9.988026e-01                       hsa-mir-1244-1    False\n",
       "154     0.026906   9.988356e-01                         hsa-mir-1911    False\n",
       "670     0.004963   9.999071e-01                         hsa-mir-4783    False\n",
       "1202         NaN            NaN                             training    False\n",
       "\n",
       "[1203 rows x 4 columns]"
      ]
     },
     "execution_count": 117,
     "metadata": {},
     "output_type": "execute_result"
    }
   ],
   "source": [
    "#Data frame with results\n",
    "feat_scores_m = pd.DataFrame()\n",
    "feat_scores_m[\"F Score\"] = fs_m.scores_\n",
    "feat_scores_m[\"P Value\"] = fs_m.pvalues_\n",
    "feat_scores_m[\"Attribute\"] = X_train_sm.columns\n",
    "feat_scores_m[\"Support\"] = fs_m.get_support()\n",
    "feat_scores_m.sort_values([\"F Score\"], ascending=False)"
   ]
  },
  {
   "cell_type": "code",
   "execution_count": 118,
   "metadata": {
    "scrolled": false
   },
   "outputs": [],
   "source": [
    "# Data frame with resultant features from feature selection (train set)\n",
    "X_train_reduced_data = pd.DataFrame(X_train_reduced, columns = (X_train_sm.loc[:,fs_m.get_support()]).columns)"
   ]
  },
  {
   "cell_type": "code",
   "execution_count": 119,
   "metadata": {},
   "outputs": [
    {
     "data": {
      "text/plain": [
       "(1264, 283)"
      ]
     },
     "execution_count": 119,
     "metadata": {},
     "output_type": "execute_result"
    }
   ],
   "source": [
    "#data frame was reduced to 283 features\n",
    "X_train_reduced_data.shape"
   ]
  },
  {
   "cell_type": "code",
   "execution_count": 120,
   "metadata": {
    "scrolled": false
   },
   "outputs": [
    {
     "data": {
      "text/plain": [
       "(187, 283)"
      ]
     },
     "execution_count": 120,
     "metadata": {},
     "output_type": "execute_result"
    }
   ],
   "source": [
    "# Data frame with resultant features from feature selection (test set)\n",
    "X_test_reduced_data = pd.DataFrame(X_test_reduced, columns= (X_test.loc[:,fs_m.get_support()]).columns)\n",
    "X_test_reduced_data.shape"
   ]
  },
  {
   "cell_type": "markdown",
   "metadata": {},
   "source": [
    "### 6-  Model Building and Tunning"
   ]
  },
  {
   "cell_type": "markdown",
   "metadata": {},
   "source": [
    "### Model 1. NAIVE_BAYES"
   ]
  },
  {
   "cell_type": "code",
   "execution_count": 121,
   "metadata": {},
   "outputs": [
    {
     "data": {
      "text/plain": [
       "GaussianNB()"
      ]
     },
     "execution_count": 121,
     "metadata": {},
     "output_type": "execute_result"
    }
   ],
   "source": [
    "# Naive Bayes\n",
    "NB = GaussianNB()\n",
    "NB.fit(X_train_reduced_data, y_train_sm)\n"
   ]
  },
  {
   "cell_type": "code",
   "execution_count": 122,
   "metadata": {},
   "outputs": [],
   "source": [
    "#prediction calculations for train and test sets\n",
    "y_predict_test = NB.predict(X_test_reduced_data)\n",
    "y_predict_train= NB.predict(X_train_reduced_data)"
   ]
  },
  {
   "cell_type": "code",
   "execution_count": 123,
   "metadata": {},
   "outputs": [],
   "source": [
    "from sklearn.metrics import accuracy_score\n",
    "from sklearn.metrics import confusion_matrix\n"
   ]
  },
  {
   "cell_type": "code",
   "execution_count": 124,
   "metadata": {
    "scrolled": true
   },
   "outputs": [
    {
     "data": {
      "image/png": "[encoded data removed]",
      "text/plain": [
       "<Figure size 432x288 with 2 Axes>"
      ]
     },
     "metadata": {
      "needs_background": "light"
     },
     "output_type": "display_data"
    }
   ],
   "source": [
    "#visualization of confussion matrix for train set\n",
    "conf_matrix = confusion_matrix(y_train_sm, y_predict_train)\n",
    "conf_mat_df = pd.DataFrame(data=conf_matrix)\n",
    "\n",
    "sns.heatmap(conf_mat_df, annot=True, fmt='d', cmap='YlGnBu');\n"
   ]
  },
  {
   "cell_type": "code",
   "execution_count": 125,
   "metadata": {},
   "outputs": [
    {
     "data": {
      "image/png": "[encoded data removed]",
      "text/plain": [
       "<Figure size 432x288 with 2 Axes>"
      ]
     },
     "metadata": {
      "needs_background": "light"
     },
     "output_type": "display_data"
    }
   ],
   "source": [
    "#visualization of confussion matrix for test set\n",
    "conf_matrix = confusion_matrix(y_test, y_predict_test)\n",
    "conf_mat_df = pd.DataFrame(data=conf_matrix)\n",
    "\n",
    "sns.heatmap(conf_mat_df, annot=True, fmt='d', cmap='YlGnBu');\n"
   ]
  },
  {
   "cell_type": "code",
   "execution_count": 126,
   "metadata": {},
   "outputs": [
    {
     "data": {
      "text/plain": [
       "0.44"
      ]
     },
     "execution_count": 126,
     "metadata": {},
     "output_type": "execute_result"
    }
   ],
   "source": [
    "#Accuracy for test set\n",
    "accuracy_score(y_test, y_predict_test).round(2)"
   ]
  },
  {
   "cell_type": "code",
   "execution_count": 127,
   "metadata": {},
   "outputs": [
    {
     "name": "stdout",
     "output_type": "stream",
     "text": [
      "              precision    recall  f1-score   support\n",
      "\n",
      "           0       0.68      0.82      0.74       316\n",
      "           1       0.59      0.44      0.50       316\n",
      "           2       0.58      0.61      0.60       316\n",
      "           3       0.97      0.97      0.97       316\n",
      "\n",
      "    accuracy                           0.71      1264\n",
      "   macro avg       0.70      0.71      0.70      1264\n",
      "weighted avg       0.70      0.71      0.70      1264\n",
      "\n"
     ]
    }
   ],
   "source": [
    "from sklearn.metrics import classification_report\n",
    "#Classification report for train set\n",
    "print(classification_report(y_train_sm, y_predict_train))"
   ]
  },
  {
   "cell_type": "code",
   "execution_count": 128,
   "metadata": {},
   "outputs": [
    {
     "name": "stdout",
     "output_type": "stream",
     "text": [
      "              precision    recall  f1-score   support\n",
      "\n",
      "           0       0.17      0.42      0.24        19\n",
      "           1       0.68      0.36      0.47       106\n",
      "           2       0.43      0.62      0.51        58\n",
      "           3       0.00      0.00      0.00         4\n",
      "\n",
      "    accuracy                           0.44       187\n",
      "   macro avg       0.32      0.35      0.30       187\n",
      "weighted avg       0.54      0.44      0.45       187\n",
      "\n"
     ]
    },
    {
     "name": "stderr",
     "output_type": "stream",
     "text": [
      "C:\\Users\\matia\\anaconda3\\envs\\dhdsblend\\lib\\site-packages\\sklearn\\metrics\\_classification.py:1221: UndefinedMetricWarning: Precision and F-score are ill-defined and being set to 0.0 in labels with no predicted samples. Use `zero_division` parameter to control this behavior.\n",
      "  _warn_prf(average, modifier, msg_start, len(result))\n"
     ]
    }
   ],
   "source": [
    "#Classification report for test set\n",
    "print(classification_report(y_test, y_predict_test))"
   ]
  },
  {
   "cell_type": "markdown",
   "metadata": {},
   "source": [
    "### Model 2. LOGISTIC REGRESSION"
   ]
  },
  {
   "cell_type": "code",
   "execution_count": 129,
   "metadata": {},
   "outputs": [],
   "source": [
    "from sklearn.linear_model import LogisticRegression\n",
    "from sklearn.model_selection import StratifiedKFold"
   ]
  },
  {
   "cell_type": "code",
   "execution_count": 130,
   "metadata": {},
   "outputs": [],
   "source": [
    "# Cross validation for logistic regression to find the best hyper parameters\n",
    "skf=StratifiedKFold(n_splits=5,shuffle=True,random_state=0)\n",
    "params_m = [\n",
    "    {'C': [0.1, 1, 10],\n",
    "     'penalty': ['l1','l2']}]"
   ]
  },
  {
   "cell_type": "code",
   "execution_count": 131,
   "metadata": {},
   "outputs": [],
   "source": [
    "# Cross validation was made by grid search\n",
    "gs = GridSearchCV(estimator= LogisticRegression(multi_class= 'multinomial', max_iter = 5000, solver = 'lbfgs'),\\\n",
    "                  param_grid=params_m, scoring='accuracy', cv=skf, n_jobs=4)\n",
    "\n",
    "fit = gs.fit(X_train_reduced, y_train_sm)\n",
    " "
   ]
  },
  {
   "cell_type": "code",
   "execution_count": 132,
   "metadata": {
    "scrolled": true
   },
   "outputs": [
    {
     "data": {
      "text/plain": [
       "0.8038019951063429"
      ]
     },
     "execution_count": 132,
     "metadata": {},
     "output_type": "execute_result"
    }
   ],
   "source": [
    "# Grid search best score\n",
    "gs.best_score_"
   ]
  },
  {
   "cell_type": "code",
   "execution_count": 133,
   "metadata": {
    "scrolled": true
   },
   "outputs": [
    {
     "data": {
      "text/plain": [
       "{'C': 10, 'penalty': 'l2'}"
      ]
     },
     "execution_count": 133,
     "metadata": {},
     "output_type": "execute_result"
    }
   ],
   "source": [
    "# Grid search best parameters\n",
    "gs.best_params_"
   ]
  },
  {
   "cell_type": "code",
   "execution_count": 134,
   "metadata": {},
   "outputs": [],
   "source": [
    "#prediction calculations for train and test sets\n",
    "y_predict_log_train = gs.predict(X_train_reduced)\n",
    "y_predict_log_test = gs.predict(X_test_reduced)\n"
   ]
  },
  {
   "cell_type": "code",
   "execution_count": 135,
   "metadata": {
    "scrolled": true
   },
   "outputs": [
    {
     "data": {
      "image/png": "[encoded data removed]",
      "text/plain": [
       "<Figure size 432x288 with 2 Axes>"
      ]
     },
     "metadata": {
      "needs_background": "light"
     },
     "output_type": "display_data"
    }
   ],
   "source": [
    "#visualization of confussion matrix for train set\n",
    "conf_matrix = conf_matrix = confusion_matrix(y_train_sm, y_predict_log_train)\n",
    "conf_mat_df = pd.DataFrame(data=conf_matrix)\n",
    "\n",
    "sns.heatmap(conf_mat_df, annot=True, fmt='d', cmap='PiYG');"
   ]
  },
  {
   "cell_type": "code",
   "execution_count": 136,
   "metadata": {
    "scrolled": false
   },
   "outputs": [
    {
     "data": {
      "image/png": "[encoded data removed]",
      "text/plain": [
       "<Figure size 432x288 with 2 Axes>"
      ]
     },
     "metadata": {
      "needs_background": "light"
     },
     "output_type": "display_data"
    }
   ],
   "source": [
    "#visualization of confussion matrix for test set\n",
    "conf_matrix = confusion_matrix(y_test, y_predict_log_test)\n",
    "conf_mat_df = pd.DataFrame(data=conf_matrix)\n",
    "\n",
    "sns.heatmap(conf_mat_df, annot=True, fmt='d', cmap='PiYG');"
   ]
  },
  {
   "cell_type": "code",
   "execution_count": 137,
   "metadata": {
    "scrolled": true
   },
   "outputs": [
    {
     "name": "stdout",
     "output_type": "stream",
     "text": [
      "              precision    recall  f1-score   support\n",
      "\n",
      "           0       1.00      1.00      1.00       316\n",
      "           1       0.94      0.91      0.93       316\n",
      "           2       0.92      0.94      0.93       316\n",
      "           3       1.00      1.00      1.00       316\n",
      "\n",
      "    accuracy                           0.96      1264\n",
      "   macro avg       0.96      0.96      0.96      1264\n",
      "weighted avg       0.96      0.96      0.96      1264\n",
      "\n"
     ]
    }
   ],
   "source": [
    "#Classification report for train set\n",
    "print(classification_report(y_train_sm, y_predict_log_train))"
   ]
  },
  {
   "cell_type": "code",
   "execution_count": 138,
   "metadata": {
    "scrolled": false
   },
   "outputs": [
    {
     "name": "stdout",
     "output_type": "stream",
     "text": [
      "              precision    recall  f1-score   support\n",
      "\n",
      "           0       0.26      0.32      0.29        19\n",
      "           1       0.54      0.46      0.50       106\n",
      "           2       0.32      0.40      0.35        58\n",
      "           3       0.00      0.00      0.00         4\n",
      "\n",
      "    accuracy                           0.42       187\n",
      "   macro avg       0.28      0.29      0.28       187\n",
      "weighted avg       0.43      0.42      0.42       187\n",
      "\n"
     ]
    }
   ],
   "source": [
    "#Classification report for test set\n",
    "print(classification_report(y_test, y_predict_log_test))"
   ]
  },
  {
   "cell_type": "code",
   "execution_count": 146,
   "metadata": {},
   "outputs": [
    {
     "data": {
      "text/plain": [
       "RFECV(cv=StratifiedKFold(n_splits=5, random_state=0, shuffle=True),\n",
       "      estimator=LogisticRegression(C=10, max_iter=5000,\n",
       "                                   multi_class='multinomial'),\n",
       "      n_jobs=3, scoring='accuracy')"
      ]
     },
     "execution_count": 146,
     "metadata": {},
     "output_type": "execute_result"
    }
   ],
   "source": [
    "#Feature selection #3 gridsearch para RFE\n",
    "\n",
    "from sklearn.feature_selection import RFECV\n",
    "\n",
    "model = gs.best_estimator_\n",
    "\n",
    "selector = RFECV(model, scoring='accuracy',step = 1, cv=skf, verbose=0,n_jobs=3)\n",
    "selector.fit(X_train_reduced, y_train_sm)"
   ]
  },
  {
   "cell_type": "code",
   "execution_count": 147,
   "metadata": {},
   "outputs": [
    {
     "data": {
      "text/plain": [
       "168"
      ]
     },
     "execution_count": 147,
     "metadata": {},
     "output_type": "execute_result"
    }
   ],
   "source": [
    "# 124 features were selected\n",
    "selector.n_features_"
   ]
  },
  {
   "cell_type": "code",
   "execution_count": 148,
   "metadata": {},
   "outputs": [],
   "source": [
    "# Data frame with resultant features\n",
    "X_train_reduced_2= X_train_reduced_data.loc[:, selector.support_]\n",
    "X_test_reduced_2 = X_test_reduced_data.loc[:, selector.support_]"
   ]
  },
  {
   "cell_type": "code",
   "execution_count": 149,
   "metadata": {},
   "outputs": [
    {
     "data": {
      "text/plain": [
       "Index(['hsa-let-7b', 'hsa-let-7e', 'hsa-mir-1-1', 'hsa-mir-105-2',\n",
       "       'hsa-mir-10b', 'hsa-mir-1178', 'hsa-mir-1180', 'hsa-mir-122',\n",
       "       'hsa-mir-1229', 'hsa-mir-1237',\n",
       "       ...\n",
       "       'hsa-mir-7978', 'hsa-mir-885', 'hsa-mir-889', 'hsa-mir-92b',\n",
       "       'hsa-mir-940', 'hsa-mir-944', 'hsa-mir-96',\n",
       "       'x1_Squamous cell carcinoma, NOS', 'x2_IV', 'x2_NOT REPORTED'],\n",
       "      dtype='object', length=168)"
      ]
     },
     "execution_count": 149,
     "metadata": {},
     "output_type": "execute_result"
    }
   ],
   "source": [
    "#feature_names\n",
    "X_train_reduced_2.columns"
   ]
  },
  {
   "cell_type": "markdown",
   "metadata": {},
   "source": [
    "### Model 3. LOGISTIC  REGRESSION AFTER RFE"
   ]
  },
  {
   "cell_type": "code",
   "execution_count": 150,
   "metadata": {},
   "outputs": [],
   "source": [
    "model_reduced = gs.fit(X_train_reduced_2, y_train_sm)"
   ]
  },
  {
   "cell_type": "code",
   "execution_count": 151,
   "metadata": {},
   "outputs": [],
   "source": [
    "#prediction calculations for train and test sets\n",
    "\n",
    "y_predict_log_train_reduced = model_reduced.predict(X_train_reduced_2)\n",
    "y_predict_log_test_reduced = model_reduced.predict(X_test_reduced_2)"
   ]
  },
  {
   "cell_type": "code",
   "execution_count": 153,
   "metadata": {
    "scrolled": true
   },
   "outputs": [
    {
     "data": {
      "image/png": "[encoded data removed]",
      "text/plain": [
       "<Figure size 432x288 with 2 Axes>"
      ]
     },
     "metadata": {
      "needs_background": "light"
     },
     "output_type": "display_data"
    }
   ],
   "source": [
    "#visualization of confussion matrix for train set\n",
    "\n",
    "conf_matrix = confusion_matrix(y_train_sm, y_predict_log_train_reduced)\n",
    "conf_mat_df = pd.DataFrame(data=conf_matrix)                           \n",
    "sns.heatmap(conf_mat_df, annot=True, fmt='d', cmap='PiYG');"
   ]
  },
  {
   "cell_type": "code",
   "execution_count": 154,
   "metadata": {
    "scrolled": true
   },
   "outputs": [
    {
     "data": {
      "image/png": "[encoded data removed]",
      "text/plain": [
       "<Figure size 432x288 with 2 Axes>"
      ]
     },
     "metadata": {
      "needs_background": "light"
     },
     "output_type": "display_data"
    }
   ],
   "source": [
    "#visualization of confussion matrix for test set\n",
    "\n",
    "conf_matrix = conf_matrix = confusion_matrix(y_test, y_predict_log_test_reduced)\n",
    "conf_mat_df = pd.DataFrame(data=conf_matrix)                      \n",
    "\n",
    "sns.heatmap(conf_mat_df, annot=True, fmt='d', cmap='PiYG');"
   ]
  },
  {
   "cell_type": "code",
   "execution_count": 155,
   "metadata": {
    "scrolled": true
   },
   "outputs": [
    {
     "name": "stdout",
     "output_type": "stream",
     "text": [
      "              precision    recall  f1-score   support\n",
      "\n",
      "           0       1.00      1.00      1.00       316\n",
      "           1       0.89      0.88      0.89       316\n",
      "           2       0.89      0.89      0.89       316\n",
      "           3       1.00      1.00      1.00       316\n",
      "\n",
      "    accuracy                           0.94      1264\n",
      "   macro avg       0.94      0.94      0.94      1264\n",
      "weighted avg       0.94      0.94      0.94      1264\n",
      "\n"
     ]
    }
   ],
   "source": [
    "#Classification report for train set\n",
    "\n",
    "print(classification_report(y_train_sm, y_predict_log_train_reduced))"
   ]
  },
  {
   "cell_type": "code",
   "execution_count": 156,
   "metadata": {
    "scrolled": false
   },
   "outputs": [
    {
     "name": "stdout",
     "output_type": "stream",
     "text": [
      "              precision    recall  f1-score   support\n",
      "\n",
      "           0       0.21      0.26      0.23        19\n",
      "           1       0.57      0.49      0.53       106\n",
      "           2       0.35      0.43      0.38        58\n",
      "           3       0.00      0.00      0.00         4\n",
      "\n",
      "    accuracy                           0.44       187\n",
      "   macro avg       0.28      0.30      0.29       187\n",
      "weighted avg       0.45      0.44      0.44       187\n",
      "\n"
     ]
    },
    {
     "name": "stderr",
     "output_type": "stream",
     "text": [
      "C:\\Users\\matia\\anaconda3\\envs\\dhdsblend\\lib\\site-packages\\sklearn\\metrics\\_classification.py:1221: UndefinedMetricWarning: Precision and F-score are ill-defined and being set to 0.0 in labels with no predicted samples. Use `zero_division` parameter to control this behavior.\n",
      "  _warn_prf(average, modifier, msg_start, len(result))\n"
     ]
    }
   ],
   "source": [
    "#Classification report for test set\n",
    "\n",
    "print(classification_report(y_test, y_predict_log_test_reduced))"
   ]
  },
  {
   "cell_type": "code",
   "execution_count": 157,
   "metadata": {},
   "outputs": [
    {
     "data": {
      "text/plain": [
       "array(['hsa-let-7b', 'hsa-let-7e', 'hsa-mir-1-1', 'hsa-mir-105-2',\n",
       "       'hsa-mir-10b', 'hsa-mir-1178', 'hsa-mir-1180', 'hsa-mir-122',\n",
       "       'hsa-mir-1229', 'hsa-mir-1237', 'hsa-mir-124-2', 'hsa-mir-1247',\n",
       "       'hsa-mir-126', 'hsa-mir-1266', 'hsa-mir-127', 'hsa-mir-1271',\n",
       "       'hsa-mir-1289-1', 'hsa-mir-129-1', 'hsa-mir-1291', 'hsa-mir-1293',\n",
       "       'hsa-mir-1305', 'hsa-mir-133b', 'hsa-mir-134', 'hsa-mir-136',\n",
       "       'hsa-mir-139', 'hsa-mir-140', 'hsa-mir-141', 'hsa-mir-142',\n",
       "       'hsa-mir-146a', 'hsa-mir-148a', 'hsa-mir-1537', 'hsa-mir-1538',\n",
       "       'hsa-mir-181c', 'hsa-mir-182', 'hsa-mir-183', 'hsa-mir-187',\n",
       "       'hsa-mir-18a', 'hsa-mir-1908', 'hsa-mir-190b', 'hsa-mir-192',\n",
       "       'hsa-mir-193a', 'hsa-mir-194-1', 'hsa-mir-194-2', 'hsa-mir-196b',\n",
       "       'hsa-mir-199a-2', 'hsa-mir-199b', 'hsa-mir-200c', 'hsa-mir-203a',\n",
       "       'hsa-mir-203b', 'hsa-mir-210', 'hsa-mir-211', 'hsa-mir-215',\n",
       "       'hsa-mir-218-1', 'hsa-mir-296', 'hsa-mir-29c', 'hsa-mir-302a',\n",
       "       'hsa-mir-3065', 'hsa-mir-30a', 'hsa-mir-30c-2', 'hsa-mir-30d',\n",
       "       'hsa-mir-3115', 'hsa-mir-3124', 'hsa-mir-3125', 'hsa-mir-3130-1',\n",
       "       'hsa-mir-3131', 'hsa-mir-3158-2', 'hsa-mir-3163', 'hsa-mir-3170',\n",
       "       'hsa-mir-3190', 'hsa-mir-3191', 'hsa-mir-3200', 'hsa-mir-320d-2',\n",
       "       'hsa-mir-337', 'hsa-mir-33a', 'hsa-mir-33b', 'hsa-mir-345',\n",
       "       'hsa-mir-34b', 'hsa-mir-3591', 'hsa-mir-3616', 'hsa-mir-3617',\n",
       "       'hsa-mir-3619', 'hsa-mir-3688-1', 'hsa-mir-370', 'hsa-mir-374a',\n",
       "       'hsa-mir-375', 'hsa-mir-376a-1', 'hsa-mir-376b', 'hsa-mir-378c',\n",
       "       'hsa-mir-378d-1', 'hsa-mir-3928', 'hsa-mir-411', 'hsa-mir-412',\n",
       "       'hsa-mir-424', 'hsa-mir-429', 'hsa-mir-4421', 'hsa-mir-4433a',\n",
       "       'hsa-mir-4449', 'hsa-mir-449b', 'hsa-mir-449c', 'hsa-mir-450a-1',\n",
       "       'hsa-mir-450b', 'hsa-mir-451a', 'hsa-mir-455', 'hsa-mir-4632',\n",
       "       'hsa-mir-4645', 'hsa-mir-4708', 'hsa-mir-4731', 'hsa-mir-4748',\n",
       "       'hsa-mir-485', 'hsa-mir-487a', 'hsa-mir-491', 'hsa-mir-501',\n",
       "       'hsa-mir-5010', 'hsa-mir-503', 'hsa-mir-511', 'hsa-mir-513a-1',\n",
       "       'hsa-mir-5193', 'hsa-mir-532', 'hsa-mir-548ag-1', 'hsa-mir-548ak',\n",
       "       'hsa-mir-548ax', 'hsa-mir-548n', 'hsa-mir-548s', 'hsa-mir-549a',\n",
       "       'hsa-mir-556', 'hsa-mir-5586', 'hsa-mir-5588', 'hsa-mir-5687',\n",
       "       'hsa-mir-5699', 'hsa-mir-592', 'hsa-mir-599', 'hsa-mir-615',\n",
       "       'hsa-mir-616', 'hsa-mir-618', 'hsa-mir-625', 'hsa-mir-6509',\n",
       "       'hsa-mir-651', 'hsa-mir-6511b-2', 'hsa-mir-6513', 'hsa-mir-655',\n",
       "       'hsa-mir-656', 'hsa-mir-6720', 'hsa-mir-6732', 'hsa-mir-6740',\n",
       "       'hsa-mir-6770-3', 'hsa-mir-6787', 'hsa-mir-6790', 'hsa-mir-6809',\n",
       "       'hsa-mir-6819', 'hsa-mir-6826', 'hsa-mir-6836', 'hsa-mir-6838',\n",
       "       'hsa-mir-6845', 'hsa-mir-6877', 'hsa-mir-6880', 'hsa-mir-7-2',\n",
       "       'hsa-mir-7-3', 'hsa-mir-744', 'hsa-mir-7978', 'hsa-mir-885',\n",
       "       'hsa-mir-889', 'hsa-mir-92b', 'hsa-mir-940', 'hsa-mir-944',\n",
       "       'hsa-mir-96', 'x1_Squamous cell carcinoma, NOS', 'x2_IV',\n",
       "       'x2_NOT REPORTED'], dtype=object)"
      ]
     },
     "execution_count": 157,
     "metadata": {},
     "output_type": "execute_result"
    }
   ],
   "source": [
    "names_of_variables =np.array(X_train_reduced_2.columns)\n",
    "names_of_variables"
   ]
  },
  {
   "cell_type": "markdown",
   "metadata": {},
   "source": [
    "### Model 4. Regression trees based models"
   ]
  },
  {
   "cell_type": "code",
   "execution_count": 158,
   "metadata": {},
   "outputs": [],
   "source": [
    "# Model performance was evaluated with the function 'evaluar_rendimiento' which return model accuracy after cross validation from\n",
    "# different ensemble models\n",
    "\n",
    "from sklearn.model_selection import cross_val_score, StratifiedKFold\n",
    "cv = StratifiedKFold(n_splits=4, random_state=41, shuffle=True)"
   ]
  },
  {
   "cell_type": "code",
   "execution_count": 159,
   "metadata": {},
   "outputs": [],
   "source": [
    "def evaluar_rendimiento(modelo, nombre, X, y, cv):\n",
    "    s = cross_val_score(modelo, X, y, cv=cv, n_jobs=-1)\n",
    "    print(\"Rendimiento de {}:\\t{:0.3} ± {:0.3}\".format( \\\n",
    "        nombre, s.mean().round(3), s.std().round(3)))"
   ]
  },
  {
   "cell_type": "code",
   "execution_count": 161,
   "metadata": {},
   "outputs": [
    {
     "name": "stdout",
     "output_type": "stream",
     "text": [
      "Rendimiento de Árbol de decisión:\t0.752 ± 0.017\n"
     ]
    }
   ],
   "source": [
    "from sklearn.tree import DecisionTreeClassifier\n",
    "dt = DecisionTreeClassifier(random_state=1)\n",
    "\n",
    "evaluar_rendimiento(dt,\"Árbol de decisión\", X_train_reduced_2, y_train_sm, cv)"
   ]
  },
  {
   "cell_type": "code",
   "execution_count": 163,
   "metadata": {},
   "outputs": [
    {
     "name": "stdout",
     "output_type": "stream",
     "text": [
      "Rendimiento de Árbol de decisión TEST:\t0.46 ± 0.035\n"
     ]
    }
   ],
   "source": [
    "evaluar_rendimiento(dt,\"Árbol de decisión TEST\", X_test_reduced_2, y_test, cv)"
   ]
  },
  {
   "cell_type": "code",
   "execution_count": 165,
   "metadata": {},
   "outputs": [
    {
     "name": "stdout",
     "output_type": "stream",
     "text": [
      "Rendimiento de AdaBoostClassifier:\t0.724 ± 0.016\n"
     ]
    }
   ],
   "source": [
    "from sklearn.ensemble import AdaBoostClassifier, GradientBoostingClassifier\n",
    "\n",
    "ab = AdaBoostClassifier(base_estimator=dt, n_estimators=500,random_state=1)\n",
    "evaluar_rendimiento(ab, \"AdaBoostClassifier\", X_train_reduced_2, y_train_sm, cv)"
   ]
  },
  {
   "cell_type": "code",
   "execution_count": 167,
   "metadata": {},
   "outputs": [
    {
     "name": "stdout",
     "output_type": "stream",
     "text": [
      "Rendimiento de AdaBoostClassifier:\t0.438 ± 0.056\n"
     ]
    }
   ],
   "source": [
    "from sklearn.ensemble import AdaBoostClassifier, GradientBoostingClassifier\n",
    "\n",
    "ab = AdaBoostClassifier(base_estimator=dt, n_estimators=500,random_state=1)\n",
    "evaluar_rendimiento(ab, \"AdaBoostClassifier\", X_test_reduced_2, y_test, cv)"
   ]
  },
  {
   "cell_type": "code",
   "execution_count": 169,
   "metadata": {},
   "outputs": [
    {
     "name": "stdout",
     "output_type": "stream",
     "text": [
      "Rendimiento de GradientBoostingClassifier:\t0.852 ± 0.011\n"
     ]
    }
   ],
   "source": [
    "gb = GradientBoostingClassifier()\n",
    "evaluar_rendimiento(gb, \"GradientBoostingClassifier\",X_train_reduced_2, y_train_sm, cv)"
   ]
  },
  {
   "cell_type": "code",
   "execution_count": 171,
   "metadata": {},
   "outputs": [
    {
     "name": "stdout",
     "output_type": "stream",
     "text": [
      "Rendimiento de GradientBoostingClassifier TEST:\t0.518 ± 0.095\n"
     ]
    }
   ],
   "source": [
    "evaluar_rendimiento(gb, \"GradientBoostingClassifier TEST\", X_test_reduced_2, y_test, cv)"
   ]
  },
  {
   "cell_type": "markdown",
   "metadata": {},
   "source": [
    "## In conclusion, the best model was the  \"GradientBoostingClassifier\" with accuracy of 0.518 ± 0.095"
   ]
  },
  {
   "cell_type": "code",
   "execution_count": null,
   "metadata": {},
   "outputs": [],
   "source": []
  }
 ],
 "metadata": {
  "kernelspec": {
   "display_name": "Python 3",
   "language": "python",
   "name": "python3"
  },
  "language_info": {
   "codemirror_mode": {
    "name": "ipython",
    "version": 3
   },
   "file_extension": ".py",
   "mimetype": "text/x-python",
   "name": "python",
   "nbconvert_exporter": "python",
   "pygments_lexer": "ipython3",
   "version": "3.7.9"
  }
 },
 "nbformat": 4,
 "nbformat_minor": 4
}
